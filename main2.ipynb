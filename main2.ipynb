{
 "cells": [
  {
   "cell_type": "code",
   "execution_count": 1,
   "metadata": {},
   "outputs": [
    {
     "name": "stdout",
     "output_type": "stream",
     "text": [
      "WARNING:tensorflow:From C:\\Users\\Hanish\\AppData\\Roaming\\Python\\Python311\\site-packages\\tf_keras\\src\\losses.py:2976: The name tf.losses.sparse_softmax_cross_entropy is deprecated. Please use tf.compat.v1.losses.sparse_softmax_cross_entropy instead.\n",
      "\n"
     ]
    }
   ],
   "source": [
    "from transformers import BertTokenizer, TFBertForMaskedLM\n",
    "import numpy as np\n",
    "import re"
   ]
  },
  {
   "cell_type": "code",
   "execution_count": 2,
   "metadata": {},
   "outputs": [],
   "source": [
    "import tensorflow as tf\n"
   ]
  },
  {
   "cell_type": "code",
   "execution_count": 3,
   "metadata": {},
   "outputs": [
    {
     "name": "stdout",
     "output_type": "stream",
     "text": [
      "WARNING:tensorflow:From C:\\Users\\Hanish\\AppData\\Roaming\\Python\\Python311\\site-packages\\tf_keras\\src\\backend.py:873: The name tf.get_default_graph is deprecated. Please use tf.compat.v1.get_default_graph instead.\n",
      "\n"
     ]
    },
    {
     "name": "stderr",
     "output_type": "stream",
     "text": [
      "All PyTorch model weights were used when initializing TFBertForMaskedLM.\n",
      "\n",
      "All the weights of TFBertForMaskedLM were initialized from the PyTorch model.\n",
      "If your task is similar to the task the model of the checkpoint was trained on, you can already use TFBertForMaskedLM for predictions without further training.\n"
     ]
    }
   ],
   "source": [
    "tokenizer = BertTokenizer.from_pretrained('bert-base-uncased')\n",
    "model = TFBertForMaskedLM.from_pretrained('bert-base-uncased')"
   ]
  },
  {
   "cell_type": "code",
   "execution_count": 4,
   "metadata": {},
   "outputs": [],
   "source": [
    "with open(\"100sentences.txt\", \"r\") as f:\n",
    "    data = f.readlines()"
   ]
  },
  {
   "cell_type": "code",
   "execution_count": 5,
   "metadata": {},
   "outputs": [
    {
     "name": "stdout",
     "output_type": "stream",
     "text": [
      "['Sentence\\n', 'Diagnosis You may not know you have atrial fibrillation (AFib).\\n', 'The condition may be found when a health checkup is done for another reason.\\n', 'To diagnose AFib, the health care provider examines you and asks questions about your medical history and symptoms.\\n', 'Tests may be done to look for conditions that can cause irregular heartbeats, such as heart disease or thyroid disease.\\n', 'TestsTests to diagnose atrial fibrillation (AFib) may include:\\n', 'Blood tests are done to look for health conditions or substances that may affect the heart or heartbeat.\\n', 'This quick and painless test measures the electrical activity of the heart.\\n', 'Sticky patches called electrodes are placed on the chest and sometimes the arms and legs.\\n', 'Wires connect the electrodes to a computer, which prints or displays the test results.\\n', 'An ECG can show the heart rhythm and how slow or fast the heart is beating.\\n', \"It's the main test for diagnosing atrial fibrillation.\\n\", \"This small, portable ECG device records the heart's activity.\\n\", \"It's worn for a day or two while you do your regular activities.\\n\", 'This device is like a Holter monitor, but it records only at certain times for a few minutes at a time.\\n', \"It's typically worn for about 30 days.\\n\", 'You usually push a button when you feel symptoms.\\n', 'Some devices automatically record when an irregular heart rhythm is detected.\\n', 'This device records the heartbeat continuously for up to three years.\\n', \"It's also called a cardiac event recorder.\\n\", 'The device shows how the heart is beating while you do your daily activities.\\n', 'It may be used to see how often you have an AFib episode.\\n', \"Sometimes it's used to find rare episodes of AFib in those at high risk of the heart problem.\\n\", \"For example, you may need one if you've had an unexplained stroke. Echocardiogram.\\n\", 'Sound waves are used to create images of the beating heart.\\n', 'This test can show how blood flows through the heart and heart valves.\\n', 'These tests often involve walking on a treadmill or pedaling a stationary bike while the heart is monitored.\\n', 'The tests show how the heart reacts to exercise.\\n', \"If you can't exercise, you may be given medicine   that increases the heart rate like exercise does.\\n\", 'Sometimes echocardiogram is done during a stress test.\\n', 'A chest X-ray shows the condition of the lungs and heart.\\n', 'More Information Atrial fibrillation care at.EchocardiogramElectrocardiogram (ECG or EKG)EP studyHolter monitorX-rayShow\\n', 'The goals of atrial fibrillation treatment are to reset and control the heartbeat and prevent blood clots.\\n', \"How long you've had AFib.\\n\", 'The cause of the irregular heartbeat.\\n', 'Atrial fibrillation treatment may involve:\\n', 'Therapy to reset the heart rhythm, called cardioversion.\\n', 'Surgery or catheter procedures.\\n', 'Together, you and your health care team discuss the best treatment option for you.\\n', \"It's important to follow your atrial fibrillation treatment plan.\\n\", \"If AFib isn't well controlled, it may lead to other complications, including stroke and heart failure.\\n\", 'MedicationsTreatment   for atrial fibrillation may include medicines to do the following:\\n', 'Control the speed of the heartbeat.\\n', 'Restore the heart rhythm.\\n', 'Prevent blood clots, a dangerous complication of AFib.\\n', 'These medicines help slow the heart rate.\\n', 'Calcium channel blockers.\\n', 'These medicines control the heart rate but may need to be avoided by those who have heart failure or low blood pressure.\\n', 'This medicine   may control the heart rate at rest, but not as well during activity.\\n', 'Most people need additional or alternative medicines, such as calcium channel blockers or beta blockers.\\n', 'medicines to control the heart rate and rhythm.\\n', 'Also called anti-arrhythmics, this type of medicine   is used sparingly.\\n', 'They tend to have more side effects than other medicines to control the heart rate.\\n', 'Also called anticoagulants, these medicines help prevent blood clots and reduce the risk of stroke.\\n', 'Blood thinners include warfarin (Jantoven), apixaban (Eliquis), dabigatran (Pradaxa), edoxaban (Savaysa) and rivaroxaban (Xarelto).\\n', \"If you take warfarin, you'll need to have regular blood tests to monitor the medicine  's effects.\\n\", 'Cardioversion therapyIf atrial fibrillation symptoms are bothersome or if this is the first AFib episode, a doctor may try to reset the heart rhythm using a procedure called cardioversion.\\n', 'Cardioversion can be done in two ways:\\n', 'Electrical cardioversion.\\n', 'This method to reset the heart rhythm is done by sending electric shocks to the heart through paddles or patches placed on the chest.\\n', 'medicines given through an IV or by mouth\\n', 'are used to reset the heart rhythm.\\n', 'Cardioversion is usually done in a hospital as a scheduled procedure.\\n', 'However, it may be done in emergency situations.\\n', \"If it's scheduled, a blood thinner such as warfarin (Jantoven) may need to be taken for a few weeks before the procedure.\\n\", 'The medicine   reduces the risk of blood clots and strokes.\\n', 'After electrical cardioversion, medicines to control the heart rhythm may be needed for life to prevent future episodes of atrial fibrillation.\\n', 'Even with medicine, AFib could return.\\n', 'Atrioventricular (AV) node ablation uses heat energy, called radiofrequency energy, to destroy the area between the upper and lower heart chambers.\\n', 'This area is called the AV node.\\n', \"The heart's electrical signals can't pass through the damaged area.\\n\", 'So this treatment blocks the faulty heart signals that cause atrial fibrillation (AFib).\\n', 'Once the AV node is destroyed, a pacemaker is needed to control the heart rhythm.\\n', \"If AFib doesn't get better with medicine   or other treatments, a procedure called cardiac ablation may be necessary.\\n\", 'Sometimes ablation is the first treatment.\\n', 'Cardiac ablation often uses heat or cold energy to create tiny scars in the heart.\\n', 'The scars disrupt irregular heart signals and restore a typical heartbeat.\\n', 'A doctor inserts a flexible tube called a catheter through a blood vessel, usually in your groin, and into your heart.\\n', 'More than one catheter may be used.\\n', 'Sensors on the tip of the catheter apply the cold or heat energy.\\n', 'Less commonly, ablation is done using a scalpel during open-heart surgery.']\n"
     ]
    }
   ],
   "source": [
    "print(data)"
   ]
  },
  {
   "cell_type": "code",
   "execution_count": 6,
   "metadata": {},
   "outputs": [],
   "source": [
    "def clean_text(line):\n",
    "    line = re.sub(r'-+',' ',line)\n",
    "    line = re.sub(r'[^a-zA-Z, ]+',\" \",line)\n",
    "    line = re.sub(r'[ ]+',\" \",line)\n",
    "    # line += \".\"\n",
    "    return line# print(data)\n",
    "\n",
    "text_lst = []\n",
    "len_lst = []\n",
    "for line in data:\n",
    "    if len(line.split(\" \")) >=5:\n",
    "        line = clean_text(line)\n",
    "        text_lst.append(line)\n",
    "        len_lst.append(len(line.split(\" \")))"
   ]
  },
  {
   "cell_type": "code",
   "execution_count": 7,
   "metadata": {},
   "outputs": [
    {
     "name": "stdout",
     "output_type": "stream",
     "text": [
      "Diagnosis You may not know you have atrial fibrillation AFib \n",
      "The condition may be found when a health checkup is done for another reason \n",
      "To diagnose AFib, the health care provider examines you and asks questions about your medical history and symptoms \n"
     ]
    }
   ],
   "source": [
    "for i in range(3):\n",
    "    print(text_lst[i])"
   ]
  },
  {
   "cell_type": "code",
   "execution_count": 8,
   "metadata": {},
   "outputs": [
    {
     "name": "stdout",
     "output_type": "stream",
     "text": [
      "[11, 15, 19, 21, 9, 19, 13, 16, 15, 17, 10, 11, 15, 22, 8, 10, 12, 12, 9, 15, 14, 20, 15, 12, 14, 19, 10, 19, 9, 13, 15, 18, 7, 7, 6, 9, 15, 11, 18, 12, 7, 9, 8, 23, 16, 16, 9, 12, 16, 16, 18, 19, 30, 8, 25, 9, 8, 12, 9, 24, 11, 22, 7, 22, 8, 13, 14, 16, 20, 7, 16, 12, 22, 8, 14, 13]\n"
     ]
    }
   ],
   "source": [
    "print(len_lst)"
   ]
  },
  {
   "cell_type": "code",
   "execution_count": 9,
   "metadata": {},
   "outputs": [
    {
     "name": "stdout",
     "output_type": "stream",
     "text": [
      "dict_keys(['input_ids', 'token_type_ids', 'attention_mask'])\n"
     ]
    }
   ],
   "source": [
    "inputs = tokenizer(text_lst,max_length=100,truncation=True,padding='max_length',return_tensors='tf')\n",
    "\n",
    "print(inputs.keys())"
   ]
  },
  {
   "cell_type": "code",
   "execution_count": 10,
   "metadata": {},
   "outputs": [
    {
     "data": {
      "text/plain": [
       "dict_keys(['input_ids', 'token_type_ids', 'attention_mask', 'labels'])"
      ]
     },
     "execution_count": 10,
     "metadata": {},
     "output_type": "execute_result"
    }
   ],
   "source": [
    "# print(inputs[\"input_ids\"])\n",
    "\n",
    "inputs['labels'] = inputs['input_ids']\n",
    "inputs.keys()"
   ]
  },
  {
   "cell_type": "code",
   "execution_count": 11,
   "metadata": {},
   "outputs": [],
   "source": [
    "inp_ids = []\n",
    "lbs = []\n",
    "idx = 0\n",
    "for inp in inputs.input_ids.numpy():\n",
    "    actual_tokens = list(set(range(100)) - \n",
    "                         set(np.where((inp == 101) | (inp == 102) \n",
    "                            | (inp == 0))[0].tolist()))\n",
    "    #We need to select 15% random tokens from the given list\n",
    "    num_of_token_to_mask = int(len(actual_tokens)*0.15)\n",
    "    token_to_mask = np.random.choice(np.array(actual_tokens), \n",
    "                                     size=num_of_token_to_mask, \n",
    "                                     replace=False).tolist()\n",
    "    #Now we have the indices where we need to mask the tokens\n",
    "    inp[token_to_mask] = 103\n",
    "    inp_ids.append(inp)\n",
    "    idx += 1\n",
    "inp_ids = tf.convert_to_tensor(inp_ids)\n",
    "inputs['input_ids'] = inp_ids"
   ]
  },
  {
   "cell_type": "code",
   "execution_count": 12,
   "metadata": {},
   "outputs": [
    {
     "name": "stdout",
     "output_type": "stream",
     "text": [
      "WARNING:tensorflow:From C:\\Users\\Hanish\\AppData\\Roaming\\Python\\Python311\\site-packages\\tf_keras\\src\\optimizers\\__init__.py:317: The name tf.train.Optimizer is deprecated. Please use tf.compat.v1.train.Optimizer instead.\n",
      "\n",
      "Epoch 1/10\n",
      "WARNING:tensorflow:AutoGraph could not transform <function infer_framework at 0x000001C7A20BCEA0> and will run it as-is.\n",
      "Cause: for/else statement not yet supported\n",
      "To silence this warning, decorate the function with @tf.autograph.experimental.do_not_convert\n",
      "WARNING: AutoGraph could not transform <function infer_framework at 0x000001C7A20BCEA0> and will run it as-is.\n",
      "Cause: for/else statement not yet supported\n",
      "To silence this warning, decorate the function with @tf.autograph.experimental.do_not_convert\n",
      "WARNING:tensorflow:From C:\\Users\\Hanish\\AppData\\Roaming\\Python\\Python311\\site-packages\\tensorflow\\python\\autograph\\converters\\directives.py:126: The name tf.nn.fused_batch_norm is deprecated. Please use tf.compat.v1.nn.fused_batch_norm instead.\n",
      "\n",
      "WARNING:tensorflow:From C:\\Users\\Hanish\\AppData\\Roaming\\Python\\Python311\\site-packages\\tensorflow\\python\\autograph\\converters\\directives.py:126: The name tf.ragged.RaggedTensorValue is deprecated. Please use tf.compat.v1.ragged.RaggedTensorValue instead.\n",
      "\n",
      "10/10 [==============================] - 142s 2s/step - loss: 11.7077\n",
      "Epoch 2/10\n",
      "10/10 [==============================] - 26s 3s/step - loss: 5.5129\n",
      "Epoch 3/10\n",
      "10/10 [==============================] - 27s 3s/step - loss: 2.4159\n",
      "Epoch 4/10\n",
      "10/10 [==============================] - 99s 11s/step - loss: 1.6102\n",
      "Epoch 5/10\n",
      "10/10 [==============================] - 71s 7s/step - loss: 1.5048\n",
      "Epoch 6/10\n",
      "10/10 [==============================] - 118s 11s/step - loss: 1.4379\n",
      "Epoch 7/10\n",
      "10/10 [==============================] - 42s 4s/step - loss: 1.4172\n",
      "Epoch 8/10\n",
      "10/10 [==============================] - 26s 3s/step - loss: 1.4108\n",
      "Epoch 9/10\n",
      "10/10 [==============================] - 64s 7s/step - loss: 1.4020\n",
      "Epoch 10/10\n",
      "10/10 [==============================] - 101s 10s/step - loss: 1.4022\n"
     ]
    }
   ],
   "source": [
    "# model.compile(optimizer=tf.keras.optimizers.Adam(learning_rate=0.0001),loss=tf.keras.losses.SparseCategoricalCrossentropy(from_logits=True))\n",
    "optimizer = \"adam\"\n",
    "loss = tf.keras.losses.SparseCategoricalCrossentropy(from_logits=True)\n",
    "\n",
    "model.compile(optimizer, loss)\n",
    "history = model.fit([inputs.input_ids, inputs.attention_mask], inputs.labels, verbose=1, batch_size=8, epochs=10)"
   ]
  },
  {
   "cell_type": "code",
   "execution_count": 13,
   "metadata": {},
   "outputs": [
    {
     "data": {
      "image/png": "[encoded data removed]",
      "text/plain": [
       "<Figure size 500x500 with 1 Axes>"
      ]
     },
     "metadata": {},
     "output_type": "display_data"
    }
   ],
   "source": [
    "import matplotlib.pyplot as plt\n",
    "\n",
    "\n",
    "losses = history.history['loss']\n",
    "fig = plt.figure(figsize=(5,5))\n",
    "ax1 = fig.add_subplot(111)\n",
    "ax1.plot(range(len(losses)),losses)\n",
    "ax1.set_xlabel(\"Epochs\")\n",
    "ax1.set_ylabel(\"Loss\")\n",
    "ax1.set_title(\"Epoch vs Loss\")\n",
    "plt.grid()\n",
    "plt.show()"
   ]
  },
  {
   "cell_type": "code",
   "execution_count": 14,
   "metadata": {},
   "outputs": [
    {
     "data": {
      "text/plain": [
       "'[PAD] [PAD]'"
      ]
     },
     "execution_count": 14,
     "metadata": {},
     "output_type": "execute_result"
    }
   ],
   "source": [
    "query = \"Diagnosis You may not [MASK] you have [MASK] fibrillation (AFib).\" #know , atrial\n",
    "inp = tokenizer(query,return_tensors='tf')\n",
    "mask_loc = np.where(inp.input_ids.numpy()[0] == 103)[0].tolist()\n",
    "out = model(inp).logits[0].numpy()\n",
    "predicted_tokens = np.argmax(out[mask_loc],axis=1).tolist()\n",
    "tokenizer.decode(predicted_tokens)"
   ]
  },
  {
   "cell_type": "code",
   "execution_count": 15,
   "metadata": {},
   "outputs": [
    {
     "name": "stdout",
     "output_type": "stream",
     "text": [
      "[name: \"/device:CPU:0\"\n",
      "device_type: \"CPU\"\n",
      "memory_limit: 268435456\n",
      "locality {\n",
      "}\n",
      "incarnation: 18041652468081346454\n",
      "xla_global_id: -1\n",
      "]\n"
     ]
    }
   ],
   "source": [
    "from tensorflow.python.client import device_lib \n",
    "print(device_lib.list_local_devices())"
   ]
  },
  {
   "cell_type": "code",
   "execution_count": null,
   "metadata": {},
   "outputs": [],
   "source": []
  }
 ],
 "metadata": {
  "kernelspec": {
   "display_name": "base",
   "language": "python",
   "name": "python3"
  },
  "language_info": {
   "codemirror_mode": {
    "name": "ipython",
    "version": 3
   },
   "file_extension": ".py",
   "mimetype": "text/x-python",
   "name": "python",
   "nbconvert_exporter": "python",
   "pygments_lexer": "ipython3",
   "version": "3.11.7"
  }
 },
 "nbformat": 4,
 "nbformat_minor": 2
}
