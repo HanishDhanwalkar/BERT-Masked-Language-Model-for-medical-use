{
 "cells": [
  {
   "cell_type": "code",
   "execution_count": 13,
   "metadata": {},
   "outputs": [],
   "source": [
    "import re"
   ]
  },
  {
   "cell_type": "code",
   "execution_count": 14,
   "metadata": {},
   "outputs": [],
   "source": [
    "datafile = \"data/large/20000_hin.txt\""
   ]
  },
  {
   "cell_type": "code",
   "execution_count": 15,
   "metadata": {},
   "outputs": [],
   "source": [
    "with open(datafile, \"r\") as f:\n",
    "    data = f.readlines()\n",
    "    \n",
    "def clean_text(line):\n",
    "    line = re.sub(r'-+',' ',line)\n",
    "    # line = re.sub(r'[^a-zA-Z, ]+',\" \",line)\n",
    "    line = re.sub(r'[ ]+',\" \",line)\n",
    "    return line\n",
    "    "
   ]
  },
  {
   "cell_type": "code",
   "execution_count": 16,
   "metadata": {},
   "outputs": [],
   "source": [
    "output_file = \"hindi_fil.txt\"\n",
    "with open(output_file, \"a\") as f:\n",
    "\n",
    "    for line in data:\n",
    "        str_len = len(line.split(\" \")) \n",
    "        # print(str_len)\n",
    "        if str_len >=5 and str_len <= 10:\n",
    "            line = clean_text(line)\n",
    "            f.write(line)\n",
    "            f.write(\"\\n\")\n",
    "        \n",
    "            "
   ]
  },
  {
   "cell_type": "code",
   "execution_count": 5,
   "metadata": {},
   "outputs": [
    {
     "name": "stdout",
     "output_type": "stream",
     "text": [
      "15\n"
     ]
    }
   ],
   "source": [
    "print(len(\"Early treatment is crucialSurgery for hidradenitis suppurativaTreating hidradenitis suppurativa with antibiotics and hormonesTreating hidradenitis suppurativa\".split(\" \")))"
   ]
  },
  {
   "cell_type": "code",
   "execution_count": 17,
   "metadata": {},
   "outputs": [],
   "source": [
    "with open(\"hindi_fil.txt\", 'r') as infile, open(\"fileterd_hin.txt\", 'w') as outfile:\n",
    "    for line in infile:\n",
    "        if line.strip():  # Check if line is not empty after removing leading/trailing whitespaces\n",
    "            outfile.write(line)"
   ]
  },
  {
   "cell_type": "code",
   "execution_count": null,
   "metadata": {},
   "outputs": [],
   "source": []
  }
 ],
 "metadata": {
  "kernelspec": {
   "display_name": "base",
   "language": "python",
   "name": "python3"
  },
  "language_info": {
   "codemirror_mode": {
    "name": "ipython",
    "version": 3
   },
   "file_extension": ".py",
   "mimetype": "text/x-python",
   "name": "python",
   "nbconvert_exporter": "python",
   "pygments_lexer": "ipython3",
   "version": "3.11.7"
  }
 },
 "nbformat": 4,
 "nbformat_minor": 2
}
