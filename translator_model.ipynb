{
  "cells": [
    {
      "cell_type": "markdown",
      "metadata": {
        "id": "EKkWUWj76sjo"
      },
      "source": [
        "##### Translate a list of English sentences based on their associated translation codes"
      ]
    },
    {
      "cell_type": "code",
      "execution_count": 1,
      "metadata": {
        "id": "bE5IFLXppFaF"
      },
      "outputs": [],
      "source": [
        "language_codes = [\n",
        "        \"ace_Arab\", \"ace_Latn\", \"acm_Arab\", \"acq_Arab\", \"aeb_Arab\", \"afr_Latn\", \"ajp_Arab\", \"aka_Latn\",\n",
        "        \"amh_Ethi\", \"apc_Arab\", \"arb_Arab\", \"arb_Latn\", \"ars_Arab\", \"ary_Arab\", \"arz_Arab\", \"asm_Beng\",\n",
        "        \"ast_Latn\", \"awa_Deva\", \"ayr_Latn\", \"azb_Arab\", \"azj_Latn\", \"bak_Cyrl\", \"bam_Latn\", \"ban_Latn\",\n",
        "        \"bel_Cyrl\", \"bem_Latn\", \"ben_Beng\", \"bho_Deva\", \"bjn_Arab\", \"bjn_Latn\", \"bod_Tibt\", \"bos_Latn\",\n",
        "        \"bug_Latn\", \"bul_Cyrl\", \"cat_Latn\", \"ceb_Latn\", \"ces_Latn\", \"cjk_Latn\", \"ckb_Arab\", \"crh_Latn\",\n",
        "        \"cym_Latn\", \"dan_Latn\", \"deu_Latn\", \"dik_Latn\", \"dyu_Latn\", \"dzo_Tibt\", \"ell_Grek\", \"eng_Latn\",\n",
        "        \"epo_Latn\", \"est_Latn\", \"eus_Latn\", \"ewe_Latn\", \"fao_Latn\", \"fij_Latn\", \"fin_Latn\", \"fon_Latn\",\n",
        "        \"fra_Latn\", \"fur_Latn\", \"fuv_Latn\", \"gla_Latn\", \"gle_Latn\", \"glg_Latn\", \"grn_Latn\", \"guj_Gujr\",\n",
        "        \"hat_Latn\", \"hau_Latn\", \"heb_Hebr\", \"hin_Deva\", \"hne_Deva\", \"hrv_Latn\", \"hun_Latn\", \"hye_Armn\",\n",
        "        \"ibo_Latn\", \"ilo_Latn\", \"ind_Latn\", \"isl_Latn\", \"ita_Latn\", \"jav_Latn\", \"jpn_Jpan\", \"kab_Latn\",\n",
        "        \"kac_Latn\", \"kam_Latn\", \"kan_Knda\", \"kas_Arab\", \"kas_Deva\", \"kat_Geor\", \"knc_Arab\", \"knc_Latn\",\n",
        "        \"kaz_Cyrl\", \"kbp_Latn\", \"kea_Latn\", \"khm_Khmr\", \"kik_Latn\", \"kin_Latn\", \"kir_Cyrl\", \"kmb_Latn\",\n",
        "        \"kmr_Latn\", \"kon_Latn\", \"kor_Hang\", \"lao_Laoo\", \"lij_Latn\", \"lim_Latn\", \"lin_Latn\", \"lit_Latn\",\n",
        "        \"lmo_Latn\", \"ltg_Latn\", \"ltz_Latn\", \"lua_Latn\", \"lug_Latn\", \"luo_Latn\", \"lus_Latn\", \"lvs_Latn\",\n",
        "        \"mag_Deva\", \"mai_Deva\", \"mal_Mlym\", \"mar_Deva\", \"min_Arab\", \"min_Latn\", \"mkd_Cyrl\", \"plt_Latn\",\n",
        "        \"mlt_Latn\", \"mni_Beng\", \"khk_Cyrl\", \"mos_Latn\", \"mri_Latn\", \"mya_Mymr\", \"nld_Latn\", \"nno_Latn\",\n",
        "        \"nob_Latn\", \"npi_Deva\", \"nso_Latn\", \"nus_Latn\", \"nya_Latn\", \"oci_Latn\", \"gaz_Latn\", \"ory_Orya\",\n",
        "        \"pag_Latn\", \"pan_Guru\", \"pap_Latn\", \"pes_Arab\", \"pol_Latn\", \"por_Latn\", \"prs_Arab\", \"pbt_Arab\",\n",
        "        \"quy_Latn\", \"ron_Latn\", \"run_Latn\", \"rus_Cyrl\", \"sag_Latn\", \"san_Deva\", \"sat_Olck\", \"scn_Latn\",\n",
        "        \"shn_Mymr\", \"sin_Sinh\", \"slk_Latn\", \"slv_Latn\", \"smo_Latn\", \"sna_Latn\", \"snd_Arab\", \"som_Latn\",\n",
        "        \"sot_Latn\", \"spa_Latn\", \"als_Latn\", \"srd_Latn\", \"srp_Cyrl\", \"ssw_Latn\", \"sun_Latn\", \"swe_Latn\",\n",
        "        \"swh_Latn\", \"szl_Latn\", \"tam_Taml\", \"tat_Cyrl\", \"tel_Telu\", \"tgk_Cyrl\", \"tgl_Latn\", \"tha_Thai\",\n",
        "        \"tir_Ethi\", \"taq_Latn\", \"taq_Tfng\", \"tpi_Latn\", \"tsn_Latn\", \"tso_Latn\", \"tuk_Latn\", \"tum_Latn\",\n",
        "        \"tur_Latn\", \"twi_Latn\", \"tzm_Tfng\", \"uig_Arab\", \"ukr_Cyrl\", \"umb_Latn\", \"urd_Arab\", \"uzn_Latn\",\n",
        "        \"vec_Latn\", \"vie_Latn\", \"war_Latn\", \"wol_Latn\", \"xho_Latn\", \"ydd_Hebr\", \"yor_Latn\", \"yue_Hant\",\n",
        "        \"zho_Hans\", \"zho_Hant\", \"zsm_Latn\", \"zul_Latn\"\n",
        "    ]"
      ]
    },
    {
      "cell_type": "code",
      "execution_count": 2,
      "metadata": {
        "id": "fDaDEESl-AlZ"
      },
      "outputs": [
        {
          "data": {
            "application/vnd.jupyter.widget-view+json": {
              "model_id": "ebf371adc7a343b39dbb34dacb00f55d",
              "version_major": 2,
              "version_minor": 0
            },
            "text/plain": [
              "tokenizer_config.json:   0%|          | 0.00/564 [00:00<?, ?B/s]"
            ]
          },
          "metadata": {},
          "output_type": "display_data"
        },
        {
          "data": {
            "application/vnd.jupyter.widget-view+json": {
              "model_id": "031314179bb0477b8d1436668d065991",
              "version_major": 2,
              "version_minor": 0
            },
            "text/plain": [
              "sentencepiece.bpe.model:   0%|          | 0.00/4.85M [00:00<?, ?B/s]"
            ]
          },
          "metadata": {},
          "output_type": "display_data"
        },
        {
          "data": {
            "application/vnd.jupyter.widget-view+json": {
              "model_id": "92f6285b413c46aa9c8011abe664e8d9",
              "version_major": 2,
              "version_minor": 0
            },
            "text/plain": [
              "tokenizer.json:   0%|          | 0.00/17.3M [00:00<?, ?B/s]"
            ]
          },
          "metadata": {},
          "output_type": "display_data"
        },
        {
          "data": {
            "application/vnd.jupyter.widget-view+json": {
              "model_id": "fcf96126783b4b69b5b06ae1944b09c7",
              "version_major": 2,
              "version_minor": 0
            },
            "text/plain": [
              "special_tokens_map.json:   0%|          | 0.00/3.55k [00:00<?, ?B/s]"
            ]
          },
          "metadata": {},
          "output_type": "display_data"
        },
        {
          "data": {
            "application/vnd.jupyter.widget-view+json": {
              "model_id": "86257e235c9b478ab3278886423374b0",
              "version_major": 2,
              "version_minor": 0
            },
            "text/plain": [
              "config.json:   0%|          | 0.00/808 [00:00<?, ?B/s]"
            ]
          },
          "metadata": {},
          "output_type": "display_data"
        },
        {
          "data": {
            "application/vnd.jupyter.widget-view+json": {
              "model_id": "ceb06e6a8f9242caba0260e8790df464",
              "version_major": 2,
              "version_minor": 0
            },
            "text/plain": [
              "pytorch_model.bin:   0%|          | 0.00/5.48G [00:00<?, ?B/s]"
            ]
          },
          "metadata": {},
          "output_type": "display_data"
        },
        {
          "ename": "KeyboardInterrupt",
          "evalue": "",
          "output_type": "error",
          "traceback": [
            "\u001b[1;31m---------------------------------------------------------------------------\u001b[0m",
            "\u001b[1;31mKeyboardInterrupt\u001b[0m                         Traceback (most recent call last)",
            "Cell \u001b[1;32mIn[2], line 6\u001b[0m\n\u001b[0;32m      3\u001b[0m model_name \u001b[38;5;241m=\u001b[39m \u001b[38;5;124m\"\u001b[39m\u001b[38;5;124mfacebook/nllb-200-distilled-1.3B\u001b[39m\u001b[38;5;124m\"\u001b[39m\n\u001b[0;32m      5\u001b[0m tokenizer \u001b[38;5;241m=\u001b[39m AutoTokenizer\u001b[38;5;241m.\u001b[39mfrom_pretrained(model_name)\n\u001b[1;32m----> 6\u001b[0m model \u001b[38;5;241m=\u001b[39m AutoModelForSeq2SeqLM\u001b[38;5;241m.\u001b[39mfrom_pretrained(model_name)\n",
            "File \u001b[1;32m~\\AppData\\Roaming\\Python\\Python311\\site-packages\\transformers\\models\\auto\\auto_factory.py:561\u001b[0m, in \u001b[0;36m_BaseAutoModelClass.from_pretrained\u001b[1;34m(cls, pretrained_model_name_or_path, *model_args, **kwargs)\u001b[0m\n\u001b[0;32m    559\u001b[0m \u001b[38;5;28;01melif\u001b[39;00m \u001b[38;5;28mtype\u001b[39m(config) \u001b[38;5;129;01min\u001b[39;00m \u001b[38;5;28mcls\u001b[39m\u001b[38;5;241m.\u001b[39m_model_mapping\u001b[38;5;241m.\u001b[39mkeys():\n\u001b[0;32m    560\u001b[0m     model_class \u001b[38;5;241m=\u001b[39m _get_model_class(config, \u001b[38;5;28mcls\u001b[39m\u001b[38;5;241m.\u001b[39m_model_mapping)\n\u001b[1;32m--> 561\u001b[0m     \u001b[38;5;28;01mreturn\u001b[39;00m model_class\u001b[38;5;241m.\u001b[39mfrom_pretrained(\n\u001b[0;32m    562\u001b[0m         pretrained_model_name_or_path, \u001b[38;5;241m*\u001b[39mmodel_args, config\u001b[38;5;241m=\u001b[39mconfig, \u001b[38;5;241m*\u001b[39m\u001b[38;5;241m*\u001b[39mhub_kwargs, \u001b[38;5;241m*\u001b[39m\u001b[38;5;241m*\u001b[39mkwargs\n\u001b[0;32m    563\u001b[0m     )\n\u001b[0;32m    564\u001b[0m \u001b[38;5;28;01mraise\u001b[39;00m \u001b[38;5;167;01mValueError\u001b[39;00m(\n\u001b[0;32m    565\u001b[0m     \u001b[38;5;124mf\u001b[39m\u001b[38;5;124m\"\u001b[39m\u001b[38;5;124mUnrecognized configuration class \u001b[39m\u001b[38;5;132;01m{\u001b[39;00mconfig\u001b[38;5;241m.\u001b[39m\u001b[38;5;18m__class__\u001b[39m\u001b[38;5;132;01m}\u001b[39;00m\u001b[38;5;124m for this kind of AutoModel: \u001b[39m\u001b[38;5;132;01m{\u001b[39;00m\u001b[38;5;28mcls\u001b[39m\u001b[38;5;241m.\u001b[39m\u001b[38;5;18m__name__\u001b[39m\u001b[38;5;132;01m}\u001b[39;00m\u001b[38;5;124m.\u001b[39m\u001b[38;5;130;01m\\n\u001b[39;00m\u001b[38;5;124m\"\u001b[39m\n\u001b[0;32m    566\u001b[0m     \u001b[38;5;124mf\u001b[39m\u001b[38;5;124m\"\u001b[39m\u001b[38;5;124mModel type should be one of \u001b[39m\u001b[38;5;132;01m{\u001b[39;00m\u001b[38;5;124m'\u001b[39m\u001b[38;5;124m, \u001b[39m\u001b[38;5;124m'\u001b[39m\u001b[38;5;241m.\u001b[39mjoin(c\u001b[38;5;241m.\u001b[39m\u001b[38;5;18m__name__\u001b[39m\u001b[38;5;250m \u001b[39m\u001b[38;5;28;01mfor\u001b[39;00m\u001b[38;5;250m \u001b[39mc\u001b[38;5;250m \u001b[39m\u001b[38;5;129;01min\u001b[39;00m\u001b[38;5;250m \u001b[39m\u001b[38;5;28mcls\u001b[39m\u001b[38;5;241m.\u001b[39m_model_mapping\u001b[38;5;241m.\u001b[39mkeys())\u001b[38;5;132;01m}\u001b[39;00m\u001b[38;5;124m.\u001b[39m\u001b[38;5;124m\"\u001b[39m\n\u001b[0;32m    567\u001b[0m )\n",
            "File \u001b[1;32m~\\AppData\\Roaming\\Python\\Python311\\site-packages\\transformers\\modeling_utils.py:3193\u001b[0m, in \u001b[0;36mPreTrainedModel.from_pretrained\u001b[1;34m(cls, pretrained_model_name_or_path, config, cache_dir, ignore_mismatched_sizes, force_download, local_files_only, token, revision, use_safetensors, *model_args, **kwargs)\u001b[0m\n\u001b[0;32m   3190\u001b[0m     \u001b[38;5;28;01melse\u001b[39;00m:\n\u001b[0;32m   3191\u001b[0m         \u001b[38;5;66;03m# This repo has no safetensors file of any kind, we switch to PyTorch.\u001b[39;00m\n\u001b[0;32m   3192\u001b[0m         filename \u001b[38;5;241m=\u001b[39m _add_variant(WEIGHTS_NAME, variant)\n\u001b[1;32m-> 3193\u001b[0m         resolved_archive_file \u001b[38;5;241m=\u001b[39m cached_file(\n\u001b[0;32m   3194\u001b[0m             pretrained_model_name_or_path, filename, \u001b[38;5;241m*\u001b[39m\u001b[38;5;241m*\u001b[39mcached_file_kwargs\n\u001b[0;32m   3195\u001b[0m         )\n\u001b[0;32m   3196\u001b[0m \u001b[38;5;28;01mif\u001b[39;00m resolved_archive_file \u001b[38;5;129;01mis\u001b[39;00m \u001b[38;5;28;01mNone\u001b[39;00m \u001b[38;5;129;01mand\u001b[39;00m filename \u001b[38;5;241m==\u001b[39m _add_variant(WEIGHTS_NAME, variant):\n\u001b[0;32m   3197\u001b[0m     \u001b[38;5;66;03m# Maybe the checkpoint is sharded, we try to grab the index name in this case.\u001b[39;00m\n\u001b[0;32m   3198\u001b[0m     resolved_archive_file \u001b[38;5;241m=\u001b[39m cached_file(\n\u001b[0;32m   3199\u001b[0m         pretrained_model_name_or_path,\n\u001b[0;32m   3200\u001b[0m         _add_variant(WEIGHTS_INDEX_NAME, variant),\n\u001b[0;32m   3201\u001b[0m         \u001b[38;5;241m*\u001b[39m\u001b[38;5;241m*\u001b[39mcached_file_kwargs,\n\u001b[0;32m   3202\u001b[0m     )\n",
            "File \u001b[1;32m~\\AppData\\Roaming\\Python\\Python311\\site-packages\\transformers\\utils\\hub.py:398\u001b[0m, in \u001b[0;36mcached_file\u001b[1;34m(path_or_repo_id, filename, cache_dir, force_download, resume_download, proxies, token, revision, local_files_only, subfolder, repo_type, user_agent, _raise_exceptions_for_gated_repo, _raise_exceptions_for_missing_entries, _raise_exceptions_for_connection_errors, _commit_hash, **deprecated_kwargs)\u001b[0m\n\u001b[0;32m    395\u001b[0m user_agent \u001b[38;5;241m=\u001b[39m http_user_agent(user_agent)\n\u001b[0;32m    396\u001b[0m \u001b[38;5;28;01mtry\u001b[39;00m:\n\u001b[0;32m    397\u001b[0m     \u001b[38;5;66;03m# Load from URL or cache if already cached\u001b[39;00m\n\u001b[1;32m--> 398\u001b[0m     resolved_file \u001b[38;5;241m=\u001b[39m hf_hub_download(\n\u001b[0;32m    399\u001b[0m         path_or_repo_id,\n\u001b[0;32m    400\u001b[0m         filename,\n\u001b[0;32m    401\u001b[0m         subfolder\u001b[38;5;241m=\u001b[39m\u001b[38;5;28;01mNone\u001b[39;00m \u001b[38;5;28;01mif\u001b[39;00m \u001b[38;5;28mlen\u001b[39m(subfolder) \u001b[38;5;241m==\u001b[39m \u001b[38;5;241m0\u001b[39m \u001b[38;5;28;01melse\u001b[39;00m subfolder,\n\u001b[0;32m    402\u001b[0m         repo_type\u001b[38;5;241m=\u001b[39mrepo_type,\n\u001b[0;32m    403\u001b[0m         revision\u001b[38;5;241m=\u001b[39mrevision,\n\u001b[0;32m    404\u001b[0m         cache_dir\u001b[38;5;241m=\u001b[39mcache_dir,\n\u001b[0;32m    405\u001b[0m         user_agent\u001b[38;5;241m=\u001b[39muser_agent,\n\u001b[0;32m    406\u001b[0m         force_download\u001b[38;5;241m=\u001b[39mforce_download,\n\u001b[0;32m    407\u001b[0m         proxies\u001b[38;5;241m=\u001b[39mproxies,\n\u001b[0;32m    408\u001b[0m         resume_download\u001b[38;5;241m=\u001b[39mresume_download,\n\u001b[0;32m    409\u001b[0m         token\u001b[38;5;241m=\u001b[39mtoken,\n\u001b[0;32m    410\u001b[0m         local_files_only\u001b[38;5;241m=\u001b[39mlocal_files_only,\n\u001b[0;32m    411\u001b[0m     )\n\u001b[0;32m    412\u001b[0m \u001b[38;5;28;01mexcept\u001b[39;00m GatedRepoError \u001b[38;5;28;01mas\u001b[39;00m e:\n\u001b[0;32m    413\u001b[0m     resolved_file \u001b[38;5;241m=\u001b[39m _get_cache_file_to_return(path_or_repo_id, full_filename, cache_dir, revision)\n",
            "File \u001b[1;32m~\\AppData\\Roaming\\Python\\Python311\\site-packages\\huggingface_hub\\utils\\_validators.py:118\u001b[0m, in \u001b[0;36mvalidate_hf_hub_args.<locals>._inner_fn\u001b[1;34m(*args, **kwargs)\u001b[0m\n\u001b[0;32m    115\u001b[0m \u001b[38;5;28;01mif\u001b[39;00m check_use_auth_token:\n\u001b[0;32m    116\u001b[0m     kwargs \u001b[38;5;241m=\u001b[39m smoothly_deprecate_use_auth_token(fn_name\u001b[38;5;241m=\u001b[39mfn\u001b[38;5;241m.\u001b[39m\u001b[38;5;18m__name__\u001b[39m, has_token\u001b[38;5;241m=\u001b[39mhas_token, kwargs\u001b[38;5;241m=\u001b[39mkwargs)\n\u001b[1;32m--> 118\u001b[0m \u001b[38;5;28;01mreturn\u001b[39;00m fn(\u001b[38;5;241m*\u001b[39margs, \u001b[38;5;241m*\u001b[39m\u001b[38;5;241m*\u001b[39mkwargs)\n",
            "File \u001b[1;32m~\\AppData\\Roaming\\Python\\Python311\\site-packages\\huggingface_hub\\file_download.py:1492\u001b[0m, in \u001b[0;36mhf_hub_download\u001b[1;34m(repo_id, filename, subfolder, repo_type, revision, library_name, library_version, cache_dir, local_dir, local_dir_use_symlinks, user_agent, force_download, force_filename, proxies, etag_timeout, resume_download, token, local_files_only, legacy_cache_layout, endpoint)\u001b[0m\n\u001b[0;32m   1489\u001b[0m         \u001b[38;5;28;01mif\u001b[39;00m local_dir \u001b[38;5;129;01mis\u001b[39;00m \u001b[38;5;129;01mnot\u001b[39;00m \u001b[38;5;28;01mNone\u001b[39;00m:\n\u001b[0;32m   1490\u001b[0m             _check_disk_space(expected_size, local_dir)\n\u001b[1;32m-> 1492\u001b[0m     http_get(\n\u001b[0;32m   1493\u001b[0m         url_to_download,\n\u001b[0;32m   1494\u001b[0m         temp_file,\n\u001b[0;32m   1495\u001b[0m         proxies\u001b[38;5;241m=\u001b[39mproxies,\n\u001b[0;32m   1496\u001b[0m         resume_size\u001b[38;5;241m=\u001b[39mresume_size,\n\u001b[0;32m   1497\u001b[0m         headers\u001b[38;5;241m=\u001b[39mheaders,\n\u001b[0;32m   1498\u001b[0m         expected_size\u001b[38;5;241m=\u001b[39mexpected_size,\n\u001b[0;32m   1499\u001b[0m         displayed_filename\u001b[38;5;241m=\u001b[39mfilename,\n\u001b[0;32m   1500\u001b[0m     )\n\u001b[0;32m   1502\u001b[0m \u001b[38;5;28;01mif\u001b[39;00m local_dir \u001b[38;5;129;01mis\u001b[39;00m \u001b[38;5;28;01mNone\u001b[39;00m:\n\u001b[0;32m   1503\u001b[0m     logger\u001b[38;5;241m.\u001b[39mdebug(\u001b[38;5;124mf\u001b[39m\u001b[38;5;124m\"\u001b[39m\u001b[38;5;124mStoring \u001b[39m\u001b[38;5;132;01m{\u001b[39;00murl\u001b[38;5;132;01m}\u001b[39;00m\u001b[38;5;124m in cache at \u001b[39m\u001b[38;5;132;01m{\u001b[39;00mblob_path\u001b[38;5;132;01m}\u001b[39;00m\u001b[38;5;124m\"\u001b[39m)\n",
            "File \u001b[1;32m~\\AppData\\Roaming\\Python\\Python311\\site-packages\\huggingface_hub\\file_download.py:547\u001b[0m, in \u001b[0;36mhttp_get\u001b[1;34m(url, temp_file, proxies, resume_size, headers, expected_size, displayed_filename, _nb_retries)\u001b[0m\n\u001b[0;32m    545\u001b[0m new_resume_size \u001b[38;5;241m=\u001b[39m resume_size\n\u001b[0;32m    546\u001b[0m \u001b[38;5;28;01mtry\u001b[39;00m:\n\u001b[1;32m--> 547\u001b[0m     \u001b[38;5;28;01mfor\u001b[39;00m chunk \u001b[38;5;129;01min\u001b[39;00m r\u001b[38;5;241m.\u001b[39miter_content(chunk_size\u001b[38;5;241m=\u001b[39mDOWNLOAD_CHUNK_SIZE):\n\u001b[0;32m    548\u001b[0m         \u001b[38;5;28;01mif\u001b[39;00m chunk:  \u001b[38;5;66;03m# filter out keep-alive new chunks\u001b[39;00m\n\u001b[0;32m    549\u001b[0m             progress\u001b[38;5;241m.\u001b[39mupdate(\u001b[38;5;28mlen\u001b[39m(chunk))\n",
            "File \u001b[1;32mc:\\ProgramData\\anaconda3\\Lib\\site-packages\\requests\\models.py:816\u001b[0m, in \u001b[0;36mResponse.iter_content.<locals>.generate\u001b[1;34m()\u001b[0m\n\u001b[0;32m    814\u001b[0m \u001b[38;5;28;01mif\u001b[39;00m \u001b[38;5;28mhasattr\u001b[39m(\u001b[38;5;28mself\u001b[39m\u001b[38;5;241m.\u001b[39mraw, \u001b[38;5;124m\"\u001b[39m\u001b[38;5;124mstream\u001b[39m\u001b[38;5;124m\"\u001b[39m):\n\u001b[0;32m    815\u001b[0m     \u001b[38;5;28;01mtry\u001b[39;00m:\n\u001b[1;32m--> 816\u001b[0m         \u001b[38;5;28;01myield from\u001b[39;00m \u001b[38;5;28mself\u001b[39m\u001b[38;5;241m.\u001b[39mraw\u001b[38;5;241m.\u001b[39mstream(chunk_size, decode_content\u001b[38;5;241m=\u001b[39m\u001b[38;5;28;01mTrue\u001b[39;00m)\n\u001b[0;32m    817\u001b[0m     \u001b[38;5;28;01mexcept\u001b[39;00m ProtocolError \u001b[38;5;28;01mas\u001b[39;00m e:\n\u001b[0;32m    818\u001b[0m         \u001b[38;5;28;01mraise\u001b[39;00m ChunkedEncodingError(e)\n",
            "File \u001b[1;32mc:\\ProgramData\\anaconda3\\Lib\\site-packages\\urllib3\\response.py:936\u001b[0m, in \u001b[0;36mHTTPResponse.stream\u001b[1;34m(self, amt, decode_content)\u001b[0m\n\u001b[0;32m    934\u001b[0m \u001b[38;5;28;01melse\u001b[39;00m:\n\u001b[0;32m    935\u001b[0m     \u001b[38;5;28;01mwhile\u001b[39;00m \u001b[38;5;129;01mnot\u001b[39;00m is_fp_closed(\u001b[38;5;28mself\u001b[39m\u001b[38;5;241m.\u001b[39m_fp) \u001b[38;5;129;01mor\u001b[39;00m \u001b[38;5;28mlen\u001b[39m(\u001b[38;5;28mself\u001b[39m\u001b[38;5;241m.\u001b[39m_decoded_buffer) \u001b[38;5;241m>\u001b[39m \u001b[38;5;241m0\u001b[39m:\n\u001b[1;32m--> 936\u001b[0m         data \u001b[38;5;241m=\u001b[39m \u001b[38;5;28mself\u001b[39m\u001b[38;5;241m.\u001b[39mread(amt\u001b[38;5;241m=\u001b[39mamt, decode_content\u001b[38;5;241m=\u001b[39mdecode_content)\n\u001b[0;32m    938\u001b[0m         \u001b[38;5;28;01mif\u001b[39;00m data:\n\u001b[0;32m    939\u001b[0m             \u001b[38;5;28;01myield\u001b[39;00m data\n",
            "File \u001b[1;32mc:\\ProgramData\\anaconda3\\Lib\\site-packages\\urllib3\\response.py:879\u001b[0m, in \u001b[0;36mHTTPResponse.read\u001b[1;34m(self, amt, decode_content, cache_content)\u001b[0m\n\u001b[0;32m    876\u001b[0m     \u001b[38;5;28;01mif\u001b[39;00m \u001b[38;5;28mlen\u001b[39m(\u001b[38;5;28mself\u001b[39m\u001b[38;5;241m.\u001b[39m_decoded_buffer) \u001b[38;5;241m>\u001b[39m\u001b[38;5;241m=\u001b[39m amt:\n\u001b[0;32m    877\u001b[0m         \u001b[38;5;28;01mreturn\u001b[39;00m \u001b[38;5;28mself\u001b[39m\u001b[38;5;241m.\u001b[39m_decoded_buffer\u001b[38;5;241m.\u001b[39mget(amt)\n\u001b[1;32m--> 879\u001b[0m data \u001b[38;5;241m=\u001b[39m \u001b[38;5;28mself\u001b[39m\u001b[38;5;241m.\u001b[39m_raw_read(amt)\n\u001b[0;32m    881\u001b[0m flush_decoder \u001b[38;5;241m=\u001b[39m amt \u001b[38;5;129;01mis\u001b[39;00m \u001b[38;5;28;01mNone\u001b[39;00m \u001b[38;5;129;01mor\u001b[39;00m (amt \u001b[38;5;241m!=\u001b[39m \u001b[38;5;241m0\u001b[39m \u001b[38;5;129;01mand\u001b[39;00m \u001b[38;5;129;01mnot\u001b[39;00m data)\n\u001b[0;32m    883\u001b[0m \u001b[38;5;28;01mif\u001b[39;00m \u001b[38;5;129;01mnot\u001b[39;00m data \u001b[38;5;129;01mand\u001b[39;00m \u001b[38;5;28mlen\u001b[39m(\u001b[38;5;28mself\u001b[39m\u001b[38;5;241m.\u001b[39m_decoded_buffer) \u001b[38;5;241m==\u001b[39m \u001b[38;5;241m0\u001b[39m:\n",
            "File \u001b[1;32mc:\\ProgramData\\anaconda3\\Lib\\site-packages\\urllib3\\response.py:814\u001b[0m, in \u001b[0;36mHTTPResponse._raw_read\u001b[1;34m(self, amt)\u001b[0m\n\u001b[0;32m    811\u001b[0m fp_closed \u001b[38;5;241m=\u001b[39m \u001b[38;5;28mgetattr\u001b[39m(\u001b[38;5;28mself\u001b[39m\u001b[38;5;241m.\u001b[39m_fp, \u001b[38;5;124m\"\u001b[39m\u001b[38;5;124mclosed\u001b[39m\u001b[38;5;124m\"\u001b[39m, \u001b[38;5;28;01mFalse\u001b[39;00m)\n\u001b[0;32m    813\u001b[0m \u001b[38;5;28;01mwith\u001b[39;00m \u001b[38;5;28mself\u001b[39m\u001b[38;5;241m.\u001b[39m_error_catcher():\n\u001b[1;32m--> 814\u001b[0m     data \u001b[38;5;241m=\u001b[39m \u001b[38;5;28mself\u001b[39m\u001b[38;5;241m.\u001b[39m_fp_read(amt) \u001b[38;5;28;01mif\u001b[39;00m \u001b[38;5;129;01mnot\u001b[39;00m fp_closed \u001b[38;5;28;01melse\u001b[39;00m \u001b[38;5;124mb\u001b[39m\u001b[38;5;124m\"\u001b[39m\u001b[38;5;124m\"\u001b[39m\n\u001b[0;32m    815\u001b[0m     \u001b[38;5;28;01mif\u001b[39;00m amt \u001b[38;5;129;01mis\u001b[39;00m \u001b[38;5;129;01mnot\u001b[39;00m \u001b[38;5;28;01mNone\u001b[39;00m \u001b[38;5;129;01mand\u001b[39;00m amt \u001b[38;5;241m!=\u001b[39m \u001b[38;5;241m0\u001b[39m \u001b[38;5;129;01mand\u001b[39;00m \u001b[38;5;129;01mnot\u001b[39;00m data:\n\u001b[0;32m    816\u001b[0m         \u001b[38;5;66;03m# Platform-specific: Buggy versions of Python.\u001b[39;00m\n\u001b[0;32m    817\u001b[0m         \u001b[38;5;66;03m# Close the connection when no data is returned\u001b[39;00m\n\u001b[1;32m   (...)\u001b[0m\n\u001b[0;32m    822\u001b[0m         \u001b[38;5;66;03m# not properly close the connection in all cases. There is\u001b[39;00m\n\u001b[0;32m    823\u001b[0m         \u001b[38;5;66;03m# no harm in redundantly calling close.\u001b[39;00m\n\u001b[0;32m    824\u001b[0m         \u001b[38;5;28mself\u001b[39m\u001b[38;5;241m.\u001b[39m_fp\u001b[38;5;241m.\u001b[39mclose()\n",
            "File \u001b[1;32mc:\\ProgramData\\anaconda3\\Lib\\site-packages\\urllib3\\response.py:799\u001b[0m, in \u001b[0;36mHTTPResponse._fp_read\u001b[1;34m(self, amt)\u001b[0m\n\u001b[0;32m    796\u001b[0m     \u001b[38;5;28;01mreturn\u001b[39;00m buffer\u001b[38;5;241m.\u001b[39mgetvalue()\n\u001b[0;32m    797\u001b[0m \u001b[38;5;28;01melse\u001b[39;00m:\n\u001b[0;32m    798\u001b[0m     \u001b[38;5;66;03m# StringIO doesn't like amt=None\u001b[39;00m\n\u001b[1;32m--> 799\u001b[0m     \u001b[38;5;28;01mreturn\u001b[39;00m \u001b[38;5;28mself\u001b[39m\u001b[38;5;241m.\u001b[39m_fp\u001b[38;5;241m.\u001b[39mread(amt) \u001b[38;5;28;01mif\u001b[39;00m amt \u001b[38;5;129;01mis\u001b[39;00m \u001b[38;5;129;01mnot\u001b[39;00m \u001b[38;5;28;01mNone\u001b[39;00m \u001b[38;5;28;01melse\u001b[39;00m \u001b[38;5;28mself\u001b[39m\u001b[38;5;241m.\u001b[39m_fp\u001b[38;5;241m.\u001b[39mread()\n",
            "File \u001b[1;32mc:\\ProgramData\\anaconda3\\Lib\\http\\client.py:473\u001b[0m, in \u001b[0;36mHTTPResponse.read\u001b[1;34m(self, amt)\u001b[0m\n\u001b[0;32m    470\u001b[0m \u001b[38;5;28;01mif\u001b[39;00m \u001b[38;5;28mself\u001b[39m\u001b[38;5;241m.\u001b[39mlength \u001b[38;5;129;01mis\u001b[39;00m \u001b[38;5;129;01mnot\u001b[39;00m \u001b[38;5;28;01mNone\u001b[39;00m \u001b[38;5;129;01mand\u001b[39;00m amt \u001b[38;5;241m>\u001b[39m \u001b[38;5;28mself\u001b[39m\u001b[38;5;241m.\u001b[39mlength:\n\u001b[0;32m    471\u001b[0m     \u001b[38;5;66;03m# clip the read to the \"end of response\"\u001b[39;00m\n\u001b[0;32m    472\u001b[0m     amt \u001b[38;5;241m=\u001b[39m \u001b[38;5;28mself\u001b[39m\u001b[38;5;241m.\u001b[39mlength\n\u001b[1;32m--> 473\u001b[0m s \u001b[38;5;241m=\u001b[39m \u001b[38;5;28mself\u001b[39m\u001b[38;5;241m.\u001b[39mfp\u001b[38;5;241m.\u001b[39mread(amt)\n\u001b[0;32m    474\u001b[0m \u001b[38;5;28;01mif\u001b[39;00m \u001b[38;5;129;01mnot\u001b[39;00m s \u001b[38;5;129;01mand\u001b[39;00m amt:\n\u001b[0;32m    475\u001b[0m     \u001b[38;5;66;03m# Ideally, we would raise IncompleteRead if the content-length\u001b[39;00m\n\u001b[0;32m    476\u001b[0m     \u001b[38;5;66;03m# wasn't satisfied, but it might break compatibility.\u001b[39;00m\n\u001b[0;32m    477\u001b[0m     \u001b[38;5;28mself\u001b[39m\u001b[38;5;241m.\u001b[39m_close_conn()\n",
            "File \u001b[1;32mc:\\ProgramData\\anaconda3\\Lib\\socket.py:706\u001b[0m, in \u001b[0;36mSocketIO.readinto\u001b[1;34m(self, b)\u001b[0m\n\u001b[0;32m    704\u001b[0m \u001b[38;5;28;01mwhile\u001b[39;00m \u001b[38;5;28;01mTrue\u001b[39;00m:\n\u001b[0;32m    705\u001b[0m     \u001b[38;5;28;01mtry\u001b[39;00m:\n\u001b[1;32m--> 706\u001b[0m         \u001b[38;5;28;01mreturn\u001b[39;00m \u001b[38;5;28mself\u001b[39m\u001b[38;5;241m.\u001b[39m_sock\u001b[38;5;241m.\u001b[39mrecv_into(b)\n\u001b[0;32m    707\u001b[0m     \u001b[38;5;28;01mexcept\u001b[39;00m timeout:\n\u001b[0;32m    708\u001b[0m         \u001b[38;5;28mself\u001b[39m\u001b[38;5;241m.\u001b[39m_timeout_occurred \u001b[38;5;241m=\u001b[39m \u001b[38;5;28;01mTrue\u001b[39;00m\n",
            "File \u001b[1;32mc:\\ProgramData\\anaconda3\\Lib\\ssl.py:1315\u001b[0m, in \u001b[0;36mSSLSocket.recv_into\u001b[1;34m(self, buffer, nbytes, flags)\u001b[0m\n\u001b[0;32m   1311\u001b[0m     \u001b[38;5;28;01mif\u001b[39;00m flags \u001b[38;5;241m!=\u001b[39m \u001b[38;5;241m0\u001b[39m:\n\u001b[0;32m   1312\u001b[0m         \u001b[38;5;28;01mraise\u001b[39;00m \u001b[38;5;167;01mValueError\u001b[39;00m(\n\u001b[0;32m   1313\u001b[0m           \u001b[38;5;124m\"\u001b[39m\u001b[38;5;124mnon-zero flags not allowed in calls to recv_into() on \u001b[39m\u001b[38;5;132;01m%s\u001b[39;00m\u001b[38;5;124m\"\u001b[39m \u001b[38;5;241m%\u001b[39m\n\u001b[0;32m   1314\u001b[0m           \u001b[38;5;28mself\u001b[39m\u001b[38;5;241m.\u001b[39m\u001b[38;5;18m__class__\u001b[39m)\n\u001b[1;32m-> 1315\u001b[0m     \u001b[38;5;28;01mreturn\u001b[39;00m \u001b[38;5;28mself\u001b[39m\u001b[38;5;241m.\u001b[39mread(nbytes, buffer)\n\u001b[0;32m   1316\u001b[0m \u001b[38;5;28;01melse\u001b[39;00m:\n\u001b[0;32m   1317\u001b[0m     \u001b[38;5;28;01mreturn\u001b[39;00m \u001b[38;5;28msuper\u001b[39m()\u001b[38;5;241m.\u001b[39mrecv_into(buffer, nbytes, flags)\n",
            "File \u001b[1;32mc:\\ProgramData\\anaconda3\\Lib\\ssl.py:1167\u001b[0m, in \u001b[0;36mSSLSocket.read\u001b[1;34m(self, len, buffer)\u001b[0m\n\u001b[0;32m   1165\u001b[0m \u001b[38;5;28;01mtry\u001b[39;00m:\n\u001b[0;32m   1166\u001b[0m     \u001b[38;5;28;01mif\u001b[39;00m buffer \u001b[38;5;129;01mis\u001b[39;00m \u001b[38;5;129;01mnot\u001b[39;00m \u001b[38;5;28;01mNone\u001b[39;00m:\n\u001b[1;32m-> 1167\u001b[0m         \u001b[38;5;28;01mreturn\u001b[39;00m \u001b[38;5;28mself\u001b[39m\u001b[38;5;241m.\u001b[39m_sslobj\u001b[38;5;241m.\u001b[39mread(\u001b[38;5;28mlen\u001b[39m, buffer)\n\u001b[0;32m   1168\u001b[0m     \u001b[38;5;28;01melse\u001b[39;00m:\n\u001b[0;32m   1169\u001b[0m         \u001b[38;5;28;01mreturn\u001b[39;00m \u001b[38;5;28mself\u001b[39m\u001b[38;5;241m.\u001b[39m_sslobj\u001b[38;5;241m.\u001b[39mread(\u001b[38;5;28mlen\u001b[39m)\n",
            "\u001b[1;31mKeyboardInterrupt\u001b[0m: "
          ]
        }
      ],
      "source": [
        "#Loading and saving the Tokenizer\n",
        "from transformers import AutoTokenizer, AutoModelForSeq2SeqLM\n",
        "model_name = \"facebook/nllb-200-distilled-1.3B\"\n",
        "\n",
        "tokenizer = AutoTokenizer.from_pretrained(model_name)\n",
        "model = AutoModelForSeq2SeqLM.from_pretrained(model_name)"
      ]
    },
    {
      "cell_type": "code",
      "execution_count": null,
      "metadata": {
        "colab": {
          "base_uri": "https://localhost:8080/"
        },
        "id": "ZRlJl6GJDUTj",
        "outputId": "66ea5fd3-bbfc-427b-9279-507c6d2598ac"
      },
      "outputs": [
        {
          "name": "stderr",
          "output_type": "stream",
          "text": [
            "Translating: 100%|██████████| 2/2 [00:45<00:00, 22.58s/it]"
          ]
        },
        {
          "name": "stdout",
          "output_type": "stream",
          "text": [
            "Translated Sentences:\n",
            "['मुझे हाल ही में लगातार खांसी और हल्के सीने में दर्द हो रहा है।', 'क्या आप जानते हैं कि क्या इस दवा के लिए कोई दुष्प्रभाव हैं जिनके बारे में मुझे पता होना चाहिए?', 'मैं अपने तनाव के स्तर को बेहतर तरीके से कैसे प्रबंधित कर सकता हूँ ताकि मैं अपने समग्र स्वास्थ्य में सुधार कर सकूँ?', 'मैं बहुत थका हुआ महसूस कर रहा हूँ, यहां तक कि एक पूरी रात की नींद के बाद भी।', 'क्या आप मेरे हालिया रक्त परीक्षण के परिणामों को अधिक विस्तार से समझा सकते हैं?', 'मुझे हाल ही में याद रखने में परेशानी हो रही है। क्या मुझे इससे चिंतित होना चाहिए?', 'मेरी एलर्जी सामान्य से अधिक सक्रिय हो रही है। क्या लक्षणों को कम करने के लिए मैं कुछ कर सकता हूँ?', 'मुझे लगातार सिरदर्द और चक्कर आ रहे हैं। इसका कारण क्या हो सकता है?', 'क्या कोई विशेष आहार या व्यायाम दिनचर्या है जो आप मेरे चिकित्सा इतिहास वाले किसी व्यक्ति के लिए सुझाएंगे?', 'मुझे रात भर सोने में कठिनाई हो रही है। क्या कोई प्राकृतिक उपचार हैं जो आप सुझाएंगे?']\n",
            "\n",
            "Time per Sentence:\n",
            "Sentence 1: 5.1325 seconds\n",
            "Sentence 2: 5.1325 seconds\n",
            "Sentence 3: 5.1325 seconds\n",
            "Sentence 4: 5.1325 seconds\n",
            "Sentence 5: 5.1325 seconds\n",
            "Sentence 6: 3.8990 seconds\n",
            "Sentence 7: 3.8990 seconds\n",
            "Sentence 8: 3.8990 seconds\n",
            "Sentence 9: 3.8990 seconds\n",
            "Sentence 10: 3.8990 seconds\n"
          ]
        },
        {
          "name": "stderr",
          "output_type": "stream",
          "text": [
            "\n"
          ]
        }
      ],
      "source": [
        "from tqdm import tqdm\n",
        "import time\n",
        "\n",
        "def translate_sentences(sentences, target_language_code, batch_size=5):\n",
        "\n",
        "    \"\"\"\n",
        "    Translate a list of sentences to the target language using the specified model.\n",
        "\n",
        "    Args:\n",
        "        sentences (list of str): List of input sentences to translate.\n",
        "        target_language_code (str): ISO 639-1 language code of the target language.\n",
        "        model_name (str): Pre-trained model name or path for translation.\n",
        "\n",
        "    Returns:\n",
        "        list of str: List of translated sentences.\n",
        "    \"\"\"\n",
        "\n",
        "    if target_language_code in language_codes:\n",
        "\n",
        "        translated_sentences = []\n",
        "        times_per_sentence = []\n",
        "\n",
        "        # Iterate over sentences in batches\n",
        "        for i in tqdm(range(0, len(sentences), batch_size), desc=\"Translating\"):\n",
        "            start_time = time.time()  # Start time for batch translation\n",
        "\n",
        "            # Get a batch of sentences\n",
        "            batch = sentences[i:i+batch_size]\n",
        "\n",
        "            # Tokenize and encode the batch\n",
        "            inputs = tokenizer(batch, return_tensors=\"pt\", padding=True, truncation=True)\n",
        "\n",
        "            # Translate the batch\n",
        "            translated_ids = model.generate(inputs[\"input_ids\"], max_length=512, forced_bos_token_id=tokenizer.lang_code_to_id[target_language_code])\n",
        "\n",
        "            # Decode and post-process translations for the batch\n",
        "            translated_batch = tokenizer.batch_decode(translated_ids, skip_special_tokens=True)\n",
        "\n",
        "            # Append translated batch to the list of translated sentences\n",
        "            translated_sentences.extend(translated_batch)\n",
        "\n",
        "            end_time = time.time()  # End time for batch translation\n",
        "            batch_time = end_time - start_time  # Time taken for batch translation\n",
        "            times_per_sentence.extend([batch_time / len(batch)] * len(batch))  # Append time per sentence for the batch\n",
        "\n",
        "        return translated_sentences, times_per_sentence\n",
        "    else:\n",
        "        return \"Language code is incorrect or not supported.\"\n",
        "\n",
        "\n",
        "# sentences = [\n",
        "#     \"The birds were chirping happily as they flew from tree to tree.\",\n",
        "#     \"Children were playing games and laughing joyfully in the park.\",\n",
        "#     \"A gentle breeze rustled the leaves of the tall oak trees.\",\n",
        "#     \"The smell of freshly cut grass filled the air with a pleasant fragrance.\",\n",
        "#     \"Families picnicked on the lush green lawns, enjoying the warmth of the sun.\",\n",
        "#     \"Dogs ran freely, chasing after balls and sticks thrown by their owners.\",\n",
        "#     \"Couples walked hand in hand along the winding paths, lost in conversation.\",\n",
        "#     \"The sound of a distant ice cream truck drew excited shouts from children.\",\n",
        "#     \"Butterflies fluttered gracefully among the colorful flowers, adding to the scene's beauty.\",\n",
        "#     \"As the day progressed, the sky gradually turned into shades of orange and pink.\",\n",
        "#     \"The setting sun cast long shadows across the tranquil landscape.\",\n",
        "#     \"Stars began to appear in the darkening sky, twinkling like distant diamonds.\",\n",
        "#     \"Night fell, and the park became quiet as people headed home, leaving only the sounds of nature.\",\n",
        "#     \"It was a peaceful evening, filled with the simple joys of life and the beauty of nature.\",\n",
        "#     \"And as the moon rose high above, casting its silvery light, the world seemed to drift into a peaceful slumber.\"\n",
        "# ]\n",
        "\n",
        "sentences = [\n",
        "    \"I've been experiencing a persistent cough and slight chest pain lately.\",\n",
        "    \"Do you know if there are any side effects I should be aware of for this medication?\",\n",
        "    \"How can I manage my stress levels better to improve my overall health?\",\n",
        "    \"I'm feeling extremely fatigued lately, even after a full night's sleep.\",\n",
        "    \"Could you explain the results of my recent blood tests in more detail?\",\n",
        "    \"I'm having trouble remembering things lately. Is this something I should be concerned about?\",\n",
        "    \"My allergies seem to be acting up more than usual. Is there anything I can do to alleviate the symptoms?\",\n",
        "    \"I've been experiencing frequent headaches and dizziness. What could be causing this?\",\n",
        "    \"Is there a particular diet or exercise routine you would recommend for someone with my medical history?\",\n",
        "    \"I'm having difficulty sleeping through the night. Are there any natural remedies you would suggest?\"\n",
        "]\n",
        "\n",
        "\n",
        "\n",
        "target_language_code = \"hin_Deva\"\n",
        "\n",
        "translated_sentences, times_per_sentence = translate_sentences(sentences, target_language_code, model_name)\n",
        "\n",
        "print(\"Translated Sentences:\")\n",
        "print(translated_sentences)\n",
        "print(\"\\nTime per Sentence:\")\n",
        "for idx, time_per_sentence in enumerate(times_per_sentence):\n",
        "    print(f\"Sentence {idx + 1}: {time_per_sentence:.4f} seconds\")"
      ]
    },
    {
      "cell_type": "markdown",
      "metadata": {
        "id": "L82CemGslUTG"
      },
      "source": [
        "optimized code"
      ]
    },
    {
      "cell_type": "code",
      "execution_count": null,
      "metadata": {
        "colab": {
          "base_uri": "https://localhost:8080/"
        },
        "id": "O9OSp_fMvYoE",
        "outputId": "ad5c692d-4006-48b5-f02d-2067b5f2b60d"
      },
      "outputs": [
        {
          "data": {
            "text/plain": [
              "M2M100ForConditionalGeneration(\n",
              "  (model): M2M100Model(\n",
              "    (shared): M2M100ScaledWordEmbedding(256206, 1024, padding_idx=1)\n",
              "    (encoder): M2M100Encoder(\n",
              "      (embed_tokens): M2M100ScaledWordEmbedding(256206, 1024, padding_idx=1)\n",
              "      (embed_positions): M2M100SinusoidalPositionalEmbedding()\n",
              "      (layers): ModuleList(\n",
              "        (0-23): 24 x M2M100EncoderLayer(\n",
              "          (self_attn): M2M100Attention(\n",
              "            (k_proj): Linear(in_features=1024, out_features=1024, bias=True)\n",
              "            (v_proj): Linear(in_features=1024, out_features=1024, bias=True)\n",
              "            (q_proj): Linear(in_features=1024, out_features=1024, bias=True)\n",
              "            (out_proj): Linear(in_features=1024, out_features=1024, bias=True)\n",
              "          )\n",
              "          (self_attn_layer_norm): LayerNorm((1024,), eps=1e-05, elementwise_affine=True)\n",
              "          (activation_fn): ReLU()\n",
              "          (fc1): Linear(in_features=1024, out_features=8192, bias=True)\n",
              "          (fc2): Linear(in_features=8192, out_features=1024, bias=True)\n",
              "          (final_layer_norm): LayerNorm((1024,), eps=1e-05, elementwise_affine=True)\n",
              "        )\n",
              "      )\n",
              "      (layer_norm): LayerNorm((1024,), eps=1e-05, elementwise_affine=True)\n",
              "    )\n",
              "    (decoder): M2M100Decoder(\n",
              "      (embed_tokens): M2M100ScaledWordEmbedding(256206, 1024, padding_idx=1)\n",
              "      (embed_positions): M2M100SinusoidalPositionalEmbedding()\n",
              "      (layers): ModuleList(\n",
              "        (0-23): 24 x M2M100DecoderLayer(\n",
              "          (self_attn): M2M100Attention(\n",
              "            (k_proj): Linear(in_features=1024, out_features=1024, bias=True)\n",
              "            (v_proj): Linear(in_features=1024, out_features=1024, bias=True)\n",
              "            (q_proj): Linear(in_features=1024, out_features=1024, bias=True)\n",
              "            (out_proj): Linear(in_features=1024, out_features=1024, bias=True)\n",
              "          )\n",
              "          (activation_fn): ReLU()\n",
              "          (self_attn_layer_norm): LayerNorm((1024,), eps=1e-05, elementwise_affine=True)\n",
              "          (encoder_attn): M2M100Attention(\n",
              "            (k_proj): Linear(in_features=1024, out_features=1024, bias=True)\n",
              "            (v_proj): Linear(in_features=1024, out_features=1024, bias=True)\n",
              "            (q_proj): Linear(in_features=1024, out_features=1024, bias=True)\n",
              "            (out_proj): Linear(in_features=1024, out_features=1024, bias=True)\n",
              "          )\n",
              "          (encoder_attn_layer_norm): LayerNorm((1024,), eps=1e-05, elementwise_affine=True)\n",
              "          (fc1): Linear(in_features=1024, out_features=8192, bias=True)\n",
              "          (fc2): Linear(in_features=8192, out_features=1024, bias=True)\n",
              "          (final_layer_norm): LayerNorm((1024,), eps=1e-05, elementwise_affine=True)\n",
              "        )\n",
              "      )\n",
              "      (layer_norm): LayerNorm((1024,), eps=1e-05, elementwise_affine=True)\n",
              "    )\n",
              "  )\n",
              "  (lm_head): Linear(in_features=1024, out_features=256206, bias=False)\n",
              ")"
            ]
          },
          "execution_count": 15,
          "metadata": {},
          "output_type": "execute_result"
        }
      ],
      "source": [
        "from transformers import AutoTokenizer, AutoModelForSeq2SeqLM\n",
        "import torch\n",
        "\n",
        "# Load model and tokenizer\n",
        "model_name = \"facebook/nllb-200-distilled-1.3B\"\n",
        "tokenizer = AutoTokenizer.from_pretrained(model_name)\n",
        "model = AutoModelForSeq2SeqLM.from_pretrained(model_name)\n",
        "device = torch.device(\"cuda\" if torch.cuda.is_available() else \"cpu\")\n",
        "model.to(device)\n",
        "model.eval()\n"
      ]
    },
    {
      "cell_type": "code",
      "execution_count": null,
      "metadata": {
        "colab": {
          "base_uri": "https://localhost:8080/"
        },
        "id": "ynCCbQSYlTrj",
        "outputId": "cf56bc24-2b0a-483c-fa8b-87da16af8709"
      },
      "outputs": [
        {
          "name": "stderr",
          "output_type": "stream",
          "text": [
            "Translating: 100%|██████████| 2/2 [00:02<00:00,  1.09s/it]"
          ]
        },
        {
          "name": "stdout",
          "output_type": "stream",
          "text": [
            "Translated Sentences:\n",
            "मुझे हाल ही में लगातार खांसी और हल्के सीने में दर्द हो रहा है।\n",
            "क्या आप जानते हैं कि क्या इस दवा के लिए कोई दुष्प्रभाव हैं जिनके बारे में मुझे पता होना चाहिए?\n",
            "मैं अपने तनाव के स्तर को बेहतर तरीके से कैसे प्रबंधित कर सकता हूँ ताकि मैं अपने समग्र स्वास्थ्य में सुधार कर सकूँ?\n",
            "मैं बहुत थका हुआ महसूस कर रहा हूँ, यहां तक कि एक पूरी रात की नींद के बाद भी।\n",
            "क्या आप मेरे हालिया रक्त परीक्षण के परिणामों को अधिक विस्तार से समझा सकते हैं?\n",
            "मुझे हाल ही में याद रखने में परेशानी हो रही है। क्या मुझे इससे चिंतित होना चाहिए?\n",
            "मेरी एलर्जी सामान्य से अधिक सक्रिय हो रही है। क्या लक्षणों को कम करने के लिए मैं कुछ कर सकता हूँ?\n",
            "मुझे लगातार सिरदर्द और चक्कर आ रहे हैं। इसका कारण क्या हो सकता है?\n",
            "क्या कोई विशेष आहार या व्यायाम दिनचर्या है जो आप मेरे चिकित्सा इतिहास वाले किसी व्यक्ति के लिए सुझाएंगे?\n",
            "मुझे रात भर सोने में कठिनाई हो रही है। क्या कोई प्राकृतिक उपचार हैं जो आप सुझाएंगे?\n",
            "मैं असामान्य रूप से चिंतित और चिंतित महसूस कर रहा हूँ। मैं इसे कम करने के लिए क्या कर सकता हूँ?\n",
            "क्या आप जीवनशैली में बदलाव के द्वारा उच्च रक्तचाप के प्रबंधन के बारे में मुझे जानकारी प्रदान कर सकते हैं?\n",
            "मैंने अपनी त्वचा पर एक छाल विकसित होने का ध्यान दिया है। इसका कारण क्या हो सकता है?\n",
            "स्वस्थ वजन बनाए रखने के लिए सबसे अच्छा उपाय क्या है?\n",
            "मुझे अक्सर कम शारीरिक गतिविधि के बाद सांस लेने में तकलीफ होती है। इसका कारण क्या हो सकता है?\n",
            "क्या आप मुझे इन दोनों दवाओं के बीच संभावित बातचीत को समझने में मदद कर सकते हैं?\n",
            "मेरे परिवार में मधुमेह का इतिहास है। मैं अपने जोखिम को कम करने के लिए क्या कर सकता हूँ?\n",
            "मुझे अक्सर दिल की धड़कन का अनुभव हो रहा है। मैं इसे रोकने के लिए क्या कर सकता हूँ?\n",
            "अगर मुझे लगता है कि मुझे किसी चीज पर एलर्जी हो रही है तो मुझे क्या करना चाहिए?\n",
            "मुझे हाल ही में असामान्य रूप से ठंड लग रही है, यहां तक कि गर्म वातावरण में भी। इसका कारण क्या हो सकता है?\n",
            "क्या आप फ्लू के टीके के लाभ और जोखिम की व्याख्या कर सकते हैं?\n",
            "मानसिक स्वास्थ्य और कल्याण में सुधार करने के लिए कुछ प्रभावी तरीके क्या हैं?\n",
            "मुझे हाल ही में मेरी दृष्टि में समस्या हो रही है। क्या मुझे किसी विशेषज्ञ को देखना चाहिए?\n",
            "मैं अपनी प्रतिरक्षा प्रणाली को बढ़ाने के लिए अपने आहार में सुधार कैसे कर सकता हूँ?\n",
            "मैंने अपने पैरों और टखनों में कुछ सूजन देखी है। इसका कारण क्या हो सकता है?\n",
            "लगातार पीठ दर्द के लिए क्या प्रभावी उपचार हैं?\n",
            "क्या आप मेरी कोर मांसपेशियों को मजबूत करने के लिए कुछ अभ्यास का सुझाव दे सकते हैं?\n",
            "मुझे अपने कोलेस्ट्रॉल के स्तर के बारे में चिंता है। मुझे आहार में किन बदलावों पर विचार करना चाहिए?\n",
            "मैं यह कैसे सुनिश्चित कर सकता हूँ कि मुझे अपने आहार में पर्याप्त विटामिन और खनिज मिल रहे हैं?\n",
            "मैं काम पर बहुत तनाव का अनुभव कर रहा हूँ। इसका प्रबंधन करने के कुछ तरीके क्या हैं?\n",
            "क्या आप गले में दर्द के लिए कोई रेकॉर्डर मुक्त उपचार की सिफारिश कर सकते हैं?\n",
            "मुझे हाल ही में चक्कर आ रहा है और मैं बेहोश हो रहा हूँ। इसका कारण क्या हो सकता है?\n",
            "मुझे कितनी बार स्वास्थ्य की जांच करनी चाहिए?\n",
            "निर्जलीकरण के क्या लक्षण हैं और मैं इससे कैसे बच सकता हूँ?\n",
            "मुझे हाल ही में मेरे पाचन में समस्या आ रही है। मैं इसे सुधारने के लिए क्या कर सकता हूँ?\n",
            "क्या आप नियमित शारीरिक गतिविधि के लाभों के बारे में जानकारी दे सकते हैं?\n",
            "अपनी त्वचा को सूर्य की रोशनी से बचाने के लिए सबसे अच्छा तरीका क्या है?\n",
            "मुझे लगातार पेशाब करना पड़ रहा है। इसका कारण क्या हो सकता है?\n",
            "क्या आप नींद की अहमियत और उसकी गुणवत्ता में सुधार कैसे कर सकते हैं?\n",
            "मुझे क्या करना चाहिए यदि मुझे लगता है कि मुझे मस्तिष्क कांपना है?\n",
            "मैं अपने रक्त शर्करा के स्तर को अधिक प्रभावी ढंग से कैसे नियंत्रित कर सकता हूँ?\n",
            "मेरे कानों में एक बज रहा है। इसका कारण क्या हो सकता है?\n",
            "क्या आप धूम्रपान छोड़ने के बारे में सुझाव दे सकते हैं?\n",
            "मैं दिन के दौरान बहुत थका हुआ महसूस कर रहा हूँ। इसका कारण क्या हो सकता है?\n",
            "सर्दी और फ्लू से बचने के कुछ तरीके क्या हैं?\n",
            "मेरे हाथ और पैरों में कुछ सुन्नता महसूस हो रही है। यह क्या संकेत दे सकता है?\n",
            "क्या आप संतुलित आहार रखने के फायदे बता सकते हैं?\n",
            "मेरी सुनवाई में समस्या आ रही है. क्या मुझे इसकी जांच करानी चाहिए?\n",
            "सूजन को कम करने के लिए कुछ प्राकृतिक उपाय क्या हैं?\n",
            "मैं हाल ही में बहुत प्यासा महसूस कर रहा हूँ. क्या यह स्वास्थ्य समस्या का संकेत हो सकता है?\n",
            "क्या आप गठिया दर्द से निपटने के बारे में सलाह दे सकते हैं?\n"
          ]
        },
        {
          "name": "stderr",
          "output_type": "stream",
          "text": [
            "\n"
          ]
        }
      ],
      "source": [
        "from tqdm import tqdm\n",
        "\n",
        "def translate_sentences(sentences, target_language_code, tokenizer, model, device, batch_size=32):\n",
        "    \"\"\"\n",
        "    Translate a list of sentences to the target language using the specified model.\n",
        "\n",
        "    Args:\n",
        "        sentences (list of str): List of input sentences to translate.\n",
        "        target_language_code (str): ISO 639-1 language code of the target language.\n",
        "        tokenizer: Tokenizer instance from the transformers library.\n",
        "        model: Model instance from the transformers library.\n",
        "        device: Device to run the model on (e.g., \"cuda\" or \"cpu\").\n",
        "        batch_size (int, optional): Batch size for translation. Defaults to 5.\n",
        "\n",
        "    Returns:\n",
        "        list of str: List of translated sentences.\n",
        "    \"\"\"\n",
        "    if target_language_code in tokenizer.lang_code_to_id:\n",
        "        translated_sentences = []\n",
        "\n",
        "        # Iterate over sentences in batches\n",
        "        for i in tqdm(range(0, len(sentences), batch_size), desc=\"Translating\"):\n",
        "            batch = sentences[i:i+batch_size]\n",
        "            inputs = tokenizer(batch, return_tensors=\"pt\", padding=True, truncation=True).to(device)\n",
        "\n",
        "            # Translate the batch\n",
        "            with torch.no_grad():\n",
        "                translated_ids = model.generate(inputs[\"input_ids\"], max_length=512, forced_bos_token_id=tokenizer.lang_code_to_id[target_language_code])\n",
        "\n",
        "            # Decode and post-process translations for the batch\n",
        "            translated_batch = tokenizer.batch_decode(translated_ids, skip_special_tokens=True)\n",
        "\n",
        "            # Append translated batch to the list of translated sentences\n",
        "            translated_sentences.extend(translated_batch)\n",
        "\n",
        "        return translated_sentences\n",
        "    else:\n",
        "        return \"Language code is incorrect or not supported.\"\n",
        "\n",
        "# Example sentences\n",
        "sentences = [\n",
        "    \"I've been experiencing a persistent cough and slight chest pain lately.\",\n",
        "    \"Do you know if there are any side effects I should be aware of for this medication?\",\n",
        "    \"How can I manage my stress levels better to improve my overall health?\",\n",
        "    \"I'm feeling extremely fatigued lately, even after a full night's sleep.\",\n",
        "    \"Could you explain the results of my recent blood tests in more detail?\",\n",
        "    \"I'm having trouble remembering things lately. Is this something I should be concerned about?\",\n",
        "    \"My allergies seem to be acting up more than usual. Is there anything I can do to alleviate the symptoms?\",\n",
        "    \"I've been experiencing frequent headaches and dizziness. What could be causing this?\",\n",
        "    \"Is there a particular diet or exercise routine you would recommend for someone with my medical history?\",\n",
        "    \"I'm having difficulty sleeping through the night. Are there any natural remedies you would suggest?\",\n",
        "    \"I've been feeling unusually anxious and worried. What can I do to reduce this?\",\n",
        "    \"Can you provide me with information on managing high blood pressure through lifestyle changes?\",\n",
        "    \"I've noticed a rash developing on my skin. What could be causing this?\",\n",
        "    \"What are the best practices for maintaining a healthy weight?\",\n",
        "    \"I often feel short of breath after minimal physical activity. What might be the cause?\",\n",
        "    \"Can you help me understand the potential interactions between these two medications?\",\n",
        "    \"I have a family history of diabetes. What can I do to reduce my risk?\",\n",
        "    \"I've been experiencing frequent heartburn. What can I do to prevent it?\",\n",
        "    \"What should I do if I suspect I'm developing an allergic reaction to something?\",\n",
        "    \"I've been feeling unusually cold lately, even in warm environments. What could be the reason?\",\n",
        "    \"Can you explain the benefits and risks of the flu vaccine?\",\n",
        "    \"What are some effective ways to improve my mental health and well-being?\",\n",
        "    \"I've been having trouble with my vision lately. Should I see a specialist?\",\n",
        "    \"How can I improve my diet to boost my immune system?\",\n",
        "    \"I've noticed some swelling in my legs and ankles. What could be causing this?\",\n",
        "    \"What are some effective treatments for chronic back pain?\",\n",
        "    \"Can you suggest some exercises to strengthen my core muscles?\",\n",
        "    \"I'm worried about my cholesterol levels. What dietary changes should I consider?\",\n",
        "    \"How can I ensure I'm getting enough vitamins and minerals in my diet?\",\n",
        "    \"I've been experiencing a lot of stress at work. What are some ways to manage it?\",\n",
        "    \"Can you recommend any over-the-counter remedies for a sore throat?\",\n",
        "    \"I've been feeling lightheaded and faint recently. What might be the cause?\",\n",
        "    \"How often should I get a physical exam to maintain good health?\",\n",
        "    \"What are the signs and symptoms of dehydration, and how can I prevent it?\",\n",
        "    \"I've been having trouble with my digestion lately. What can I do to improve it?\",\n",
        "    \"Can you provide information on the benefits of regular physical activity?\",\n",
        "    \"What are the best ways to protect my skin from sun damage?\",\n",
        "    \"I've been experiencing frequent urination. What could be causing this?\",\n",
        "    \"Can you explain the importance of sleep and how to improve its quality?\",\n",
        "    \"What should I do if I think I have a concussion?\",\n",
        "    \"How can I manage my blood sugar levels more effectively?\",\n",
        "    \"I've been experiencing a ringing in my ears. What might be causing this?\",\n",
        "    \"Can you provide tips on how to quit smoking?\",\n",
        "    \"I've been feeling very tired during the day. What could be causing this?\",\n",
        "    \"What are some ways to prevent the common cold and flu?\",\n",
        "    \"I've been experiencing some numbness in my hands and feet. What could this indicate?\",\n",
        "    \"Can you explain the benefits of maintaining a balanced diet?\",\n",
        "    \"I've been having trouble with my hearing. Should I get it checked?\",\n",
        "    \"What are some natural remedies for reducing inflammation?\",\n",
        "    \"I've been feeling very thirsty lately. Could this be a sign of a health issue?\",\n",
        "    \"Can you provide advice on how to manage arthritis pain?\"\n",
        "]\n",
        "\n",
        "\n",
        "target_language_code = \"hin_Deva\"\n",
        "\n",
        "# Call the translation function\n",
        "translated_sentences = translate_sentences(sentences, target_language_code, tokenizer, model, device)\n",
        "\n",
        "# Print translated sentences\n",
        "print(\"Translated Sentences:\")\n",
        "for sentence in translated_sentences:\n",
        "    print(sentence)"
      ]
    },
    {
      "cell_type": "markdown",
      "metadata": {
        "id": "yzwRFz0UqCTN"
      },
      "source": [
        "##### Test cases\n",
        "**Test Case 1 :**\n",
        "English_sentence = I've been experiencing a sharp, stabbing pain in my lower abdomen, especially on the right side and rashes accompanied by nausea and vomiting\n",
        "\n",
        "Model_name = facebook/nllb-200-distilled-600M\n",
        "\n",
        "Output[InCorrect] = मेरे पेट में तेज, तेज दर्द होता है, खासकर दाईं ओर और बुखार और उल्टी के साथ ही स्फोट होता है\n",
        "\n",
        "---\n",
        "\n",
        "**Test Case 2 :**\n",
        "English_sentence = I've been experiencing a sharp, stabbing pain in my lower abdomen, especially on the right side and rashes accompanied by nausea and vomiting\n",
        "\n",
        "Model_name = facebook/nllb-200-distilled-1.3B\n",
        "\n",
        "Output[Correct] = मुझे पेट के निचले हिस्से में तेज, दर्दनाक दर्द हो रहा है, विशेष रूप से दाहिने तरफ और मतली और उल्टी के साथ छाले\n",
        "\n",
        "\n"
      ]
    },
    {
      "cell_type": "code",
      "execution_count": null,
      "metadata": {
        "colab": {
          "base_uri": "https://localhost:8080/"
        },
        "id": "Ug0Tk-9nrhCB",
        "outputId": "cd9fa0b8-4827-4bdf-ca37-19a823b07800"
      },
      "outputs": [
        {
          "name": "stdout",
          "output_type": "stream",
          "text": [
            "['McGuire was a regular at Inverness and finished the 2007-08 season in a respected position', 'In October 2008, with Inverness Caledonian Thistle going well in the League campaign, McGuire suffered an ankle injury which ruled him out for nine weeks', 'McGuire returned early to help Inverness Caledonian Thistle, who at this stage had slipped down to bottom of the table', 'Within weeks, Inverness parted company with manager Craig Brewster', 'Terry Butcher and Maurice Malpas took over the mantle at Inverness Caledonian Thistle', 'McGuire found his first team games rare and he decided at the end of that season to leave the club, which had been relegated to the First Division, despite having a year remaining on his contract', 'McGuire turned down several clubs in Britain as he was looking to move abroad and explore different options with coaching and options outside football', 'He almost joined the New York Red Bulls in the MLS as a coach but decided it was the wrong time', 'On Friday, 25 September 2009 he signed for Formartine United on a one-year deal to help raise the profile of the new club and raise the awareness of the Highland League', 'McGuire teamed up with the Scottish Sun to write a weekly diary about his time with the club and created media interest in the small football club', 'McGuire left Formartine United at the end of January 2010', 'He finished off the season with Arbroath', 'McGuire headed to Cyprus with AEK Larnaca and was offered a two-year deal, but after a short period of time returned to the UK due to financial problems with the club']\n"
          ]
        }
      ],
      "source": [
        "import re\n",
        "\n",
        "text = \"\"\"\n",
        "McGuire was a regular at Inverness and finished the 2007-08 season in a respected position.\n",
        "In October 2008, with Inverness Caledonian Thistle going well in the League campaign, McGuire suffered an ankle injury which ruled him out for nine weeks.\n",
        "McGuire returned early to help Inverness Caledonian Thistle, who at this stage had slipped down to bottom of the table.\n",
        "Within weeks, Inverness parted company with manager Craig Brewster. Terry Butcher and Maurice Malpas took over the mantle at Inverness Caledonian Thistle.\n",
        "McGuire found his first team games rare and he decided at the end of that season to leave the club, which had been relegated to the First Division, despite having a year remaining on his contract.\n",
        "\n",
        "McGuire turned down several clubs in Britain as he was looking to move abroad and explore different options with coaching and options outside football.\n",
        "He almost joined the New York Red Bulls in the MLS as a coach but decided it was the wrong time.\n",
        "On Friday, 25 September 2009 he signed for Formartine United on a one-year deal to help raise the profile of the new club and raise the awareness of the Highland League.\n",
        "McGuire teamed up with the Scottish Sun to write a weekly diary about his time with the club and created media interest in the small football club.\n",
        "McGuire left Formartine United at the end of January 2010. He finished off the season with Arbroath.\n",
        "McGuire headed to Cyprus with AEK Larnaca and was offered a two-year deal, but after a short period of time returned to the UK due to financial problems with the club.\n",
        "\"\"\"\n",
        "\n",
        "sentences = re.split(r'\\.\\s+', text)  # Split the text into sentences based on periods followed by one or more spaces\n",
        "sentences = [sentence.strip() for sentence in sentences if sentence.strip()]  # Remove any empty sentences and leading/trailing whitespaces\n",
        "\n",
        "print(sentences)"
      ]
    },
    {
      "cell_type": "code",
      "execution_count": null,
      "metadata": {
        "colab": {
          "base_uri": "https://localhost:8080/"
        },
        "id": "bvzOhcmGrjh9",
        "outputId": "22192823-587d-40cd-874a-52c127e085d1"
      },
      "outputs": [
        {
          "name": "stdout",
          "output_type": "stream",
          "text": [
            "{'input_ids': tensor([[256047,   1617,  66604,   1398, 207992,    388,  63882,     56,   8947,\n",
            "         142180,  53106,     91,   1688,   6693,     71, 138719, 248075,      2]]), 'attention_mask': tensor([[1, 1, 1, 1, 1, 1, 1, 1, 1, 1, 1, 1, 1, 1, 1, 1, 1, 1]])}\n",
            "Translated sentence (Marathi): ڤيله دڤرچايا?? ي سباڬاي ڤڠاره سكوادرا Dilokrit Pattavee.\n"
          ]
        }
      ],
      "source": [
        "# from transformers import AutoTokenizer, AutoModelForSeq2SeqLM\n",
        "# model_name = \"facebook/nllb-200-distilled-600M\"\n",
        "\n",
        "# tokenizer = AutoTokenizer.from_pretrained(model_name)\n",
        "# model = AutoModelForSeq2SeqLM.from_pretrained(model_name)\n",
        "\n",
        "# Set tokenizer source language to Hindi (hi)\n",
        "tokenizer.src_lang = \"eng_Latn\"\n",
        "\n",
        "# Example Hindi sentence\n",
        "hindi_sentence=\"The pilot was identified as Squadron Leader Dilokrit Pattavee.\"\n",
        "# Tokenize the input sentence\n",
        "inputs = tokenizer(hindi_sentence, return_tensors=\"pt\")\n",
        "print(inputs)\n",
        "\n",
        "# Generate translation (target language: Marathi)\n",
        "outputs = model.generate(**inputs, forced_bos_token_id=tokenizer.lang_code_to_id[\"ace_Arab\"])\n",
        "\n",
        "# Set tokenizer source language to English (en)\n",
        "# Set tokenizer target language to Marathi (mr)\n",
        "tokenizer.tgt_lang = \"ace_Arab\"\n",
        "\n",
        "# Detokenize and print the output\n",
        "translated_sentence = tokenizer.decode(outputs[0], skip_special_tokens=True)\n",
        "\n",
        "print(\"Translated sentence (Marathi):\", translated_sentence)\n"
      ]
    },
    {
      "cell_type": "code",
      "execution_count": null,
      "metadata": {
        "colab": {
          "base_uri": "https://localhost:8080/"
        },
        "id": "zl27xCstnBra",
        "outputId": "c2429853-ecb3-4831-ed8a-3bb84cf70bba"
      },
      "outputs": [
        {
          "name": "stdout",
          "output_type": "stream",
          "text": [
            "tensor([     2, 256001,  24430, 248127,   1119,    164, 250169, 248104, 248358,\n",
            "         30887,  21833,    368,   7910, 248084, 252582,   1672,  24430, 251594,\n",
            "          4144, 141028,  50435,    945,  53106,     91,   1688,   6693,     71,\n",
            "        138719, 248075,      2])\n"
          ]
        }
      ],
      "source": [
        "print(outputs[0])"
      ]
    },
    {
      "cell_type": "code",
      "execution_count": null,
      "metadata": {
        "id": "mq5ee4fTnbon"
      },
      "outputs": [],
      "source": [
        "x=\n",
        "translated_sentence = tokenizer.decode(outputs[0], skip_special_tokens=True)"
      ]
    }
  ],
  "metadata": {
    "accelerator": "GPU",
    "colab": {
      "gpuType": "T4",
      "provenance": []
    },
    "kernelspec": {
      "display_name": "Python 3",
      "name": "python3"
    },
    "language_info": {
      "codemirror_mode": {
        "name": "ipython",
        "version": 3
      },
      "file_extension": ".py",
      "mimetype": "text/x-python",
      "name": "python",
      "nbconvert_exporter": "python",
      "pygments_lexer": "ipython3",
      "version": "3.11.7"
    }
  },
  "nbformat": 4,
  "nbformat_minor": 0
}
