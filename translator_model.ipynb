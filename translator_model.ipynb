{
  "cells": [
    {
      "cell_type": "markdown",
      "metadata": {
        "id": "EKkWUWj76sjo"
      },
      "source": [
        "##### Translate a list of English sentences based on their associated translation codes"
      ]
    },
    {
      "cell_type": "code",
      "execution_count": 1,
      "metadata": {
        "id": "bE5IFLXppFaF"
      },
      "outputs": [],
      "source": [
        "language_codes = [\n",
        "        \"ace_Arab\", \"ace_Latn\", \"acm_Arab\", \"acq_Arab\", \"aeb_Arab\", \"afr_Latn\", \"ajp_Arab\", \"aka_Latn\",\n",
        "        \"amh_Ethi\", \"apc_Arab\", \"arb_Arab\", \"arb_Latn\", \"ars_Arab\", \"ary_Arab\", \"arz_Arab\", \"asm_Beng\",\n",
        "        \"ast_Latn\", \"awa_Deva\", \"ayr_Latn\", \"azb_Arab\", \"azj_Latn\", \"bak_Cyrl\", \"bam_Latn\", \"ban_Latn\",\n",
        "        \"bel_Cyrl\", \"bem_Latn\", \"ben_Beng\", \"bho_Deva\", \"bjn_Arab\", \"bjn_Latn\", \"bod_Tibt\", \"bos_Latn\",\n",
        "        \"bug_Latn\", \"bul_Cyrl\", \"cat_Latn\", \"ceb_Latn\", \"ces_Latn\", \"cjk_Latn\", \"ckb_Arab\", \"crh_Latn\",\n",
        "        \"cym_Latn\", \"dan_Latn\", \"deu_Latn\", \"dik_Latn\", \"dyu_Latn\", \"dzo_Tibt\", \"ell_Grek\", \"eng_Latn\",\n",
        "        \"epo_Latn\", \"est_Latn\", \"eus_Latn\", \"ewe_Latn\", \"fao_Latn\", \"fij_Latn\", \"fin_Latn\", \"fon_Latn\",\n",
        "        \"fra_Latn\", \"fur_Latn\", \"fuv_Latn\", \"gla_Latn\", \"gle_Latn\", \"glg_Latn\", \"grn_Latn\", \"guj_Gujr\",\n",
        "        \"hat_Latn\", \"hau_Latn\", \"heb_Hebr\", \"hin_Deva\", \"hne_Deva\", \"hrv_Latn\", \"hun_Latn\", \"hye_Armn\",\n",
        "        \"ibo_Latn\", \"ilo_Latn\", \"ind_Latn\", \"isl_Latn\", \"ita_Latn\", \"jav_Latn\", \"jpn_Jpan\", \"kab_Latn\",\n",
        "        \"kac_Latn\", \"kam_Latn\", \"kan_Knda\", \"kas_Arab\", \"kas_Deva\", \"kat_Geor\", \"knc_Arab\", \"knc_Latn\",\n",
        "        \"kaz_Cyrl\", \"kbp_Latn\", \"kea_Latn\", \"khm_Khmr\", \"kik_Latn\", \"kin_Latn\", \"kir_Cyrl\", \"kmb_Latn\",\n",
        "        \"kmr_Latn\", \"kon_Latn\", \"kor_Hang\", \"lao_Laoo\", \"lij_Latn\", \"lim_Latn\", \"lin_Latn\", \"lit_Latn\",\n",
        "        \"lmo_Latn\", \"ltg_Latn\", \"ltz_Latn\", \"lua_Latn\", \"lug_Latn\", \"luo_Latn\", \"lus_Latn\", \"lvs_Latn\",\n",
        "        \"mag_Deva\", \"mai_Deva\", \"mal_Mlym\", \"mar_Deva\", \"min_Arab\", \"min_Latn\", \"mkd_Cyrl\", \"plt_Latn\",\n",
        "        \"mlt_Latn\", \"mni_Beng\", \"khk_Cyrl\", \"mos_Latn\", \"mri_Latn\", \"mya_Mymr\", \"nld_Latn\", \"nno_Latn\",\n",
        "        \"nob_Latn\", \"npi_Deva\", \"nso_Latn\", \"nus_Latn\", \"nya_Latn\", \"oci_Latn\", \"gaz_Latn\", \"ory_Orya\",\n",
        "        \"pag_Latn\", \"pan_Guru\", \"pap_Latn\", \"pes_Arab\", \"pol_Latn\", \"por_Latn\", \"prs_Arab\", \"pbt_Arab\",\n",
        "        \"quy_Latn\", \"ron_Latn\", \"run_Latn\", \"rus_Cyrl\", \"sag_Latn\", \"san_Deva\", \"sat_Olck\", \"scn_Latn\",\n",
        "        \"shn_Mymr\", \"sin_Sinh\", \"slk_Latn\", \"slv_Latn\", \"smo_Latn\", \"sna_Latn\", \"snd_Arab\", \"som_Latn\",\n",
        "        \"sot_Latn\", \"spa_Latn\", \"als_Latn\", \"srd_Latn\", \"srp_Cyrl\", \"ssw_Latn\", \"sun_Latn\", \"swe_Latn\",\n",
        "        \"swh_Latn\", \"szl_Latn\", \"tam_Taml\", \"tat_Cyrl\", \"tel_Telu\", \"tgk_Cyrl\", \"tgl_Latn\", \"tha_Thai\",\n",
        "        \"tir_Ethi\", \"taq_Latn\", \"taq_Tfng\", \"tpi_Latn\", \"tsn_Latn\", \"tso_Latn\", \"tuk_Latn\", \"tum_Latn\",\n",
        "        \"tur_Latn\", \"twi_Latn\", \"tzm_Tfng\", \"uig_Arab\", \"ukr_Cyrl\", \"umb_Latn\", \"urd_Arab\", \"uzn_Latn\",\n",
        "        \"vec_Latn\", \"vie_Latn\", \"war_Latn\", \"wol_Latn\", \"xho_Latn\", \"ydd_Hebr\", \"yor_Latn\", \"yue_Hant\",\n",
        "        \"zho_Hans\", \"zho_Hant\", \"zsm_Latn\", \"zul_Latn\"\n",
        "    ]"
      ]
    },
    {
      "cell_type": "code",
      "execution_count": 2,
      "metadata": {
        "id": "fDaDEESl-AlZ"
      },
      "outputs": [
        {
          "data": {
            "application/vnd.jupyter.widget-view+json": {
              "model_id": "b7949e1a8ec846d7b7f32be6ed0e5393",
              "version_major": 2,
              "version_minor": 0
            },
            "text/plain": [
              "pytorch_model.bin:   0%|          | 0.00/5.48G [00:00<?, ?B/s]"
            ]
          },
          "metadata": {},
          "output_type": "display_data"
        },
        {
          "data": {
            "application/vnd.jupyter.widget-view+json": {
              "model_id": "d33b8958fae148e4be81e3eccc13db32",
              "version_major": 2,
              "version_minor": 0
            },
            "text/plain": [
              "generation_config.json:   0%|          | 0.00/189 [00:00<?, ?B/s]"
            ]
          },
          "metadata": {},
          "output_type": "display_data"
        }
      ],
      "source": [
        "#Loading and saving the Tokenizer\n",
        "from transformers import AutoTokenizer, AutoModelForSeq2SeqLM\n",
        "model_name = \"facebook/nllb-200-distilled-1.3B\"\n",
        "\n",
        "tokenizer = AutoTokenizer.from_pretrained(model_name)\n",
        "model = AutoModelForSeq2SeqLM.from_pretrained(model_name)"
      ]
    },
    {
      "cell_type": "code",
      "execution_count": null,
      "metadata": {
        "colab": {
          "base_uri": "https://localhost:8080/"
        },
        "id": "ZRlJl6GJDUTj",
        "outputId": "66ea5fd3-bbfc-427b-9279-507c6d2598ac"
      },
      "outputs": [
        {
          "name": "stderr",
          "output_type": "stream",
          "text": [
            "Translating: 100%|██████████| 2/2 [00:45<00:00, 22.58s/it]"
          ]
        },
        {
          "name": "stdout",
          "output_type": "stream",
          "text": [
            "Translated Sentences:\n",
            "['मुझे हाल ही में लगातार खांसी और हल्के सीने में दर्द हो रहा है।', 'क्या आप जानते हैं कि क्या इस दवा के लिए कोई दुष्प्रभाव हैं जिनके बारे में मुझे पता होना चाहिए?', 'मैं अपने तनाव के स्तर को बेहतर तरीके से कैसे प्रबंधित कर सकता हूँ ताकि मैं अपने समग्र स्वास्थ्य में सुधार कर सकूँ?', 'मैं बहुत थका हुआ महसूस कर रहा हूँ, यहां तक कि एक पूरी रात की नींद के बाद भी।', 'क्या आप मेरे हालिया रक्त परीक्षण के परिणामों को अधिक विस्तार से समझा सकते हैं?', 'मुझे हाल ही में याद रखने में परेशानी हो रही है। क्या मुझे इससे चिंतित होना चाहिए?', 'मेरी एलर्जी सामान्य से अधिक सक्रिय हो रही है। क्या लक्षणों को कम करने के लिए मैं कुछ कर सकता हूँ?', 'मुझे लगातार सिरदर्द और चक्कर आ रहे हैं। इसका कारण क्या हो सकता है?', 'क्या कोई विशेष आहार या व्यायाम दिनचर्या है जो आप मेरे चिकित्सा इतिहास वाले किसी व्यक्ति के लिए सुझाएंगे?', 'मुझे रात भर सोने में कठिनाई हो रही है। क्या कोई प्राकृतिक उपचार हैं जो आप सुझाएंगे?']\n",
            "\n",
            "Time per Sentence:\n",
            "Sentence 1: 5.1325 seconds\n",
            "Sentence 2: 5.1325 seconds\n",
            "Sentence 3: 5.1325 seconds\n",
            "Sentence 4: 5.1325 seconds\n",
            "Sentence 5: 5.1325 seconds\n",
            "Sentence 6: 3.8990 seconds\n",
            "Sentence 7: 3.8990 seconds\n",
            "Sentence 8: 3.8990 seconds\n",
            "Sentence 9: 3.8990 seconds\n",
            "Sentence 10: 3.8990 seconds\n"
          ]
        },
        {
          "name": "stderr",
          "output_type": "stream",
          "text": [
            "\n"
          ]
        }
      ],
      "source": [
        "from tqdm import tqdm\n",
        "import time\n",
        "\n",
        "def translate_sentences(sentences, target_language_code, batch_size=5):\n",
        "\n",
        "    if target_language_code in language_codes:\n",
        "\n",
        "        translated_sentences = []\n",
        "        times_per_sentence = []\n",
        "\n",
        "        # Iterate over sentences in batches\n",
        "        for i in tqdm(range(0, len(sentences), batch_size), desc=\"Translating\"):\n",
        "            start_time = time.time()  # Start time for batch translation\n",
        "\n",
        "            # Get a batch of sentences\n",
        "            batch = sentences[i:i+batch_size]\n",
        "\n",
        "            # Tokenize and encode the batch\n",
        "            inputs = tokenizer(batch, return_tensors=\"pt\", padding=True, truncation=True)\n",
        "\n",
        "            # Translate the batch\n",
        "            translated_ids = model.generate(inputs[\"input_ids\"], max_length=512, forced_bos_token_id=tokenizer.lang_code_to_id[target_language_code])\n",
        "\n",
        "            # Decode and post-process translations for the batch\n",
        "            translated_batch = tokenizer.batch_decode(translated_ids, skip_special_tokens=True)\n",
        "\n",
        "            # Append translated batch to the list of translated sentences\n",
        "            translated_sentences.extend(translated_batch)\n",
        "\n",
        "            end_time = time.time()  # End time for batch translation\n",
        "            batch_time = end_time - start_time  # Time taken for batch translation\n",
        "            times_per_sentence.extend([batch_time / len(batch)] * len(batch))  # Append time per sentence for the batch\n",
        "\n",
        "        return translated_sentences, times_per_sentence\n",
        "    else:\n",
        "        return \"Language code is incorrect or not supported.\"\n",
        "\n",
        "\n",
        "# sentences = [\n",
        "#     \"The birds were chirping happily as they flew from tree to tree.\",\n",
        "#     \"Children were playing games and laughing joyfully in the park.\",\n",
        "#     \"A gentle breeze rustled the leaves of the tall oak trees.\",\n",
        "#     \"The smell of freshly cut grass filled the air with a pleasant fragrance.\",\n",
        "#     \"Families picnicked on the lush green lawns, enjoying the warmth of the sun.\",\n",
        "#     \"Dogs ran freely, chasing after balls and sticks thrown by their owners.\",\n",
        "#     \"Couples walked hand in hand along the winding paths, lost in conversation.\",\n",
        "#     \"The sound of a distant ice cream truck drew excited shouts from children.\",\n",
        "#     \"Butterflies fluttered gracefully among the colorful flowers, adding to the scene's beauty.\",\n",
        "#     \"As the day progressed, the sky gradually turned into shades of orange and pink.\",\n",
        "#     \"The setting sun cast long shadows across the tranquil landscape.\",\n",
        "#     \"Stars began to appear in the darkening sky, twinkling like distant diamonds.\",\n",
        "#     \"Night fell, and the park became quiet as people headed home, leaving only the sounds of nature.\",\n",
        "#     \"It was a peaceful evening, filled with the simple joys of life and the beauty of nature.\",\n",
        "#     \"And as the moon rose high above, casting its silvery light, the world seemed to drift into a peaceful slumber.\"\n",
        "# ]\n",
        "\n",
        "sentences = [\n",
        "    \"I've been experiencing a persistent cough and slight chest pain lately.\",\n",
        "    \"Do you know if there are any side effects I should be aware of for this medication?\",\n",
        "    \"How can I manage my stress levels better to improve my overall health?\",\n",
        "    \"I'm feeling extremely fatigued lately, even after a full night's sleep.\",\n",
        "    \"Could you explain the results of my recent blood tests in more detail?\",\n",
        "    \"I'm having trouble remembering things lately. Is this something I should be concerned about?\",\n",
        "    \"My allergies seem to be acting up more than usual. Is there anything I can do to alleviate the symptoms?\",\n",
        "    \"I've been experiencing frequent headaches and dizziness. What could be causing this?\",\n",
        "    \"Is there a particular diet or exercise routine you would recommend for someone with my medical history?\",\n",
        "    \"I'm having difficulty sleeping through the night. Are there any natural remedies you would suggest?\"\n",
        "]\n",
        "\n",
        "\n",
        "\n",
        "target_language_code = \"hin_Deva\"\n",
        "\n",
        "translated_sentences, times_per_sentence = translate_sentences(sentences, target_language_code, model_name)\n",
        "\n",
        "print(\"Translated Sentences:\")\n",
        "print(translated_sentences)\n",
        "print(\"\\nTime per Sentence:\")\n",
        "for idx, time_per_sentence in enumerate(times_per_sentence):\n",
        "    print(f\"Sentence {idx + 1}: {time_per_sentence:.4f} seconds\")"
      ]
    },
    {
      "cell_type": "markdown",
      "metadata": {
        "id": "L82CemGslUTG"
      },
      "source": [
        "optimized code"
      ]
    },
    {
      "cell_type": "code",
      "execution_count": null,
      "metadata": {
        "colab": {
          "base_uri": "https://localhost:8080/"
        },
        "id": "O9OSp_fMvYoE",
        "outputId": "ad5c692d-4006-48b5-f02d-2067b5f2b60d"
      },
      "outputs": [
        {
          "data": {
            "text/plain": [
              "M2M100ForConditionalGeneration(\n",
              "  (model): M2M100Model(\n",
              "    (shared): M2M100ScaledWordEmbedding(256206, 1024, padding_idx=1)\n",
              "    (encoder): M2M100Encoder(\n",
              "      (embed_tokens): M2M100ScaledWordEmbedding(256206, 1024, padding_idx=1)\n",
              "      (embed_positions): M2M100SinusoidalPositionalEmbedding()\n",
              "      (layers): ModuleList(\n",
              "        (0-23): 24 x M2M100EncoderLayer(\n",
              "          (self_attn): M2M100Attention(\n",
              "            (k_proj): Linear(in_features=1024, out_features=1024, bias=True)\n",
              "            (v_proj): Linear(in_features=1024, out_features=1024, bias=True)\n",
              "            (q_proj): Linear(in_features=1024, out_features=1024, bias=True)\n",
              "            (out_proj): Linear(in_features=1024, out_features=1024, bias=True)\n",
              "          )\n",
              "          (self_attn_layer_norm): LayerNorm((1024,), eps=1e-05, elementwise_affine=True)\n",
              "          (activation_fn): ReLU()\n",
              "          (fc1): Linear(in_features=1024, out_features=8192, bias=True)\n",
              "          (fc2): Linear(in_features=8192, out_features=1024, bias=True)\n",
              "          (final_layer_norm): LayerNorm((1024,), eps=1e-05, elementwise_affine=True)\n",
              "        )\n",
              "      )\n",
              "      (layer_norm): LayerNorm((1024,), eps=1e-05, elementwise_affine=True)\n",
              "    )\n",
              "    (decoder): M2M100Decoder(\n",
              "      (embed_tokens): M2M100ScaledWordEmbedding(256206, 1024, padding_idx=1)\n",
              "      (embed_positions): M2M100SinusoidalPositionalEmbedding()\n",
              "      (layers): ModuleList(\n",
              "        (0-23): 24 x M2M100DecoderLayer(\n",
              "          (self_attn): M2M100Attention(\n",
              "            (k_proj): Linear(in_features=1024, out_features=1024, bias=True)\n",
              "            (v_proj): Linear(in_features=1024, out_features=1024, bias=True)\n",
              "            (q_proj): Linear(in_features=1024, out_features=1024, bias=True)\n",
              "            (out_proj): Linear(in_features=1024, out_features=1024, bias=True)\n",
              "          )\n",
              "          (activation_fn): ReLU()\n",
              "          (self_attn_layer_norm): LayerNorm((1024,), eps=1e-05, elementwise_affine=True)\n",
              "          (encoder_attn): M2M100Attention(\n",
              "            (k_proj): Linear(in_features=1024, out_features=1024, bias=True)\n",
              "            (v_proj): Linear(in_features=1024, out_features=1024, bias=True)\n",
              "            (q_proj): Linear(in_features=1024, out_features=1024, bias=True)\n",
              "            (out_proj): Linear(in_features=1024, out_features=1024, bias=True)\n",
              "          )\n",
              "          (encoder_attn_layer_norm): LayerNorm((1024,), eps=1e-05, elementwise_affine=True)\n",
              "          (fc1): Linear(in_features=1024, out_features=8192, bias=True)\n",
              "          (fc2): Linear(in_features=8192, out_features=1024, bias=True)\n",
              "          (final_layer_norm): LayerNorm((1024,), eps=1e-05, elementwise_affine=True)\n",
              "        )\n",
              "      )\n",
              "      (layer_norm): LayerNorm((1024,), eps=1e-05, elementwise_affine=True)\n",
              "    )\n",
              "  )\n",
              "  (lm_head): Linear(in_features=1024, out_features=256206, bias=False)\n",
              ")"
            ]
          },
          "execution_count": 15,
          "metadata": {},
          "output_type": "execute_result"
        }
      ],
      "source": [
        "from transformers import AutoTokenizer, AutoModelForSeq2SeqLM\n",
        "import torch\n",
        "\n",
        "# Load model and tokenizer\n",
        "model_name = \"facebook/nllb-200-distilled-1.3B\"\n",
        "tokenizer = AutoTokenizer.from_pretrained(model_name)\n",
        "model = AutoModelForSeq2SeqLM.from_pretrained(model_name)\n",
        "device = torch.device(\"cuda\" if torch.cuda.is_available() else \"cpu\")\n",
        "model.to(device)\n",
        "model.eval()\n"
      ]
    },
    {
      "cell_type": "code",
      "execution_count": null,
      "metadata": {
        "colab": {
          "base_uri": "https://localhost:8080/"
        },
        "id": "ynCCbQSYlTrj",
        "outputId": "cf56bc24-2b0a-483c-fa8b-87da16af8709"
      },
      "outputs": [
        {
          "name": "stderr",
          "output_type": "stream",
          "text": [
            "Translating: 100%|██████████| 2/2 [00:02<00:00,  1.09s/it]"
          ]
        },
        {
          "name": "stdout",
          "output_type": "stream",
          "text": [
            "Translated Sentences:\n",
            "मुझे हाल ही में लगातार खांसी और हल्के सीने में दर्द हो रहा है।\n",
            "क्या आप जानते हैं कि क्या इस दवा के लिए कोई दुष्प्रभाव हैं जिनके बारे में मुझे पता होना चाहिए?\n",
            "मैं अपने तनाव के स्तर को बेहतर तरीके से कैसे प्रबंधित कर सकता हूँ ताकि मैं अपने समग्र स्वास्थ्य में सुधार कर सकूँ?\n",
            "मैं बहुत थका हुआ महसूस कर रहा हूँ, यहां तक कि एक पूरी रात की नींद के बाद भी।\n",
            "क्या आप मेरे हालिया रक्त परीक्षण के परिणामों को अधिक विस्तार से समझा सकते हैं?\n",
            "मुझे हाल ही में याद रखने में परेशानी हो रही है। क्या मुझे इससे चिंतित होना चाहिए?\n",
            "मेरी एलर्जी सामान्य से अधिक सक्रिय हो रही है। क्या लक्षणों को कम करने के लिए मैं कुछ कर सकता हूँ?\n",
            "मुझे लगातार सिरदर्द और चक्कर आ रहे हैं। इसका कारण क्या हो सकता है?\n",
            "क्या कोई विशेष आहार या व्यायाम दिनचर्या है जो आप मेरे चिकित्सा इतिहास वाले किसी व्यक्ति के लिए सुझाएंगे?\n",
            "मुझे रात भर सोने में कठिनाई हो रही है। क्या कोई प्राकृतिक उपचार हैं जो आप सुझाएंगे?\n",
            "मैं असामान्य रूप से चिंतित और चिंतित महसूस कर रहा हूँ। मैं इसे कम करने के लिए क्या कर सकता हूँ?\n",
            "क्या आप जीवनशैली में बदलाव के द्वारा उच्च रक्तचाप के प्रबंधन के बारे में मुझे जानकारी प्रदान कर सकते हैं?\n",
            "मैंने अपनी त्वचा पर एक छाल विकसित होने का ध्यान दिया है। इसका कारण क्या हो सकता है?\n",
            "स्वस्थ वजन बनाए रखने के लिए सबसे अच्छा उपाय क्या है?\n",
            "मुझे अक्सर कम शारीरिक गतिविधि के बाद सांस लेने में तकलीफ होती है। इसका कारण क्या हो सकता है?\n",
            "क्या आप मुझे इन दोनों दवाओं के बीच संभावित बातचीत को समझने में मदद कर सकते हैं?\n",
            "मेरे परिवार में मधुमेह का इतिहास है। मैं अपने जोखिम को कम करने के लिए क्या कर सकता हूँ?\n",
            "मुझे अक्सर दिल की धड़कन का अनुभव हो रहा है। मैं इसे रोकने के लिए क्या कर सकता हूँ?\n",
            "अगर मुझे लगता है कि मुझे किसी चीज पर एलर्जी हो रही है तो मुझे क्या करना चाहिए?\n",
            "मुझे हाल ही में असामान्य रूप से ठंड लग रही है, यहां तक कि गर्म वातावरण में भी। इसका कारण क्या हो सकता है?\n",
            "क्या आप फ्लू के टीके के लाभ और जोखिम की व्याख्या कर सकते हैं?\n",
            "मानसिक स्वास्थ्य और कल्याण में सुधार करने के लिए कुछ प्रभावी तरीके क्या हैं?\n",
            "मुझे हाल ही में मेरी दृष्टि में समस्या हो रही है। क्या मुझे किसी विशेषज्ञ को देखना चाहिए?\n",
            "मैं अपनी प्रतिरक्षा प्रणाली को बढ़ाने के लिए अपने आहार में सुधार कैसे कर सकता हूँ?\n",
            "मैंने अपने पैरों और टखनों में कुछ सूजन देखी है। इसका कारण क्या हो सकता है?\n",
            "लगातार पीठ दर्द के लिए क्या प्रभावी उपचार हैं?\n",
            "क्या आप मेरी कोर मांसपेशियों को मजबूत करने के लिए कुछ अभ्यास का सुझाव दे सकते हैं?\n",
            "मुझे अपने कोलेस्ट्रॉल के स्तर के बारे में चिंता है। मुझे आहार में किन बदलावों पर विचार करना चाहिए?\n",
            "मैं यह कैसे सुनिश्चित कर सकता हूँ कि मुझे अपने आहार में पर्याप्त विटामिन और खनिज मिल रहे हैं?\n",
            "मैं काम पर बहुत तनाव का अनुभव कर रहा हूँ। इसका प्रबंधन करने के कुछ तरीके क्या हैं?\n",
            "क्या आप गले में दर्द के लिए कोई रेकॉर्डर मुक्त उपचार की सिफारिश कर सकते हैं?\n",
            "मुझे हाल ही में चक्कर आ रहा है और मैं बेहोश हो रहा हूँ। इसका कारण क्या हो सकता है?\n",
            "मुझे कितनी बार स्वास्थ्य की जांच करनी चाहिए?\n",
            "निर्जलीकरण के क्या लक्षण हैं और मैं इससे कैसे बच सकता हूँ?\n",
            "मुझे हाल ही में मेरे पाचन में समस्या आ रही है। मैं इसे सुधारने के लिए क्या कर सकता हूँ?\n",
            "क्या आप नियमित शारीरिक गतिविधि के लाभों के बारे में जानकारी दे सकते हैं?\n",
            "अपनी त्वचा को सूर्य की रोशनी से बचाने के लिए सबसे अच्छा तरीका क्या है?\n",
            "मुझे लगातार पेशाब करना पड़ रहा है। इसका कारण क्या हो सकता है?\n",
            "क्या आप नींद की अहमियत और उसकी गुणवत्ता में सुधार कैसे कर सकते हैं?\n",
            "मुझे क्या करना चाहिए यदि मुझे लगता है कि मुझे मस्तिष्क कांपना है?\n",
            "मैं अपने रक्त शर्करा के स्तर को अधिक प्रभावी ढंग से कैसे नियंत्रित कर सकता हूँ?\n",
            "मेरे कानों में एक बज रहा है। इसका कारण क्या हो सकता है?\n",
            "क्या आप धूम्रपान छोड़ने के बारे में सुझाव दे सकते हैं?\n",
            "मैं दिन के दौरान बहुत थका हुआ महसूस कर रहा हूँ। इसका कारण क्या हो सकता है?\n",
            "सर्दी और फ्लू से बचने के कुछ तरीके क्या हैं?\n",
            "मेरे हाथ और पैरों में कुछ सुन्नता महसूस हो रही है। यह क्या संकेत दे सकता है?\n",
            "क्या आप संतुलित आहार रखने के फायदे बता सकते हैं?\n",
            "मेरी सुनवाई में समस्या आ रही है. क्या मुझे इसकी जांच करानी चाहिए?\n",
            "सूजन को कम करने के लिए कुछ प्राकृतिक उपाय क्या हैं?\n",
            "मैं हाल ही में बहुत प्यासा महसूस कर रहा हूँ. क्या यह स्वास्थ्य समस्या का संकेत हो सकता है?\n",
            "क्या आप गठिया दर्द से निपटने के बारे में सलाह दे सकते हैं?\n"
          ]
        },
        {
          "name": "stderr",
          "output_type": "stream",
          "text": [
            "\n"
          ]
        }
      ],
      "source": [
        "from tqdm import tqdm\n",
        "\n",
        "def translate_sentences(sentences, target_language_code, tokenizer, model, device, batch_size=32):\n",
        "    \"\"\"\n",
        "    Translate a list of sentences to the target language using the specified model.\n",
        "\n",
        "    Args:\n",
        "        sentences (list of str): List of input sentences to translate.\n",
        "        target_language_code (str): ISO 639-1 language code of the target language.\n",
        "        tokenizer: Tokenizer instance from the transformers library.\n",
        "        model: Model instance from the transformers library.\n",
        "        device: Device to run the model on (e.g., \"cuda\" or \"cpu\").\n",
        "        batch_size (int, optional): Batch size for translation. Defaults to 5.\n",
        "\n",
        "    Returns:\n",
        "        list of str: List of translated sentences.\n",
        "    \"\"\"\n",
        "    if target_language_code in tokenizer.lang_code_to_id:\n",
        "        translated_sentences = []\n",
        "\n",
        "        # Iterate over sentences in batches\n",
        "        for i in tqdm(range(0, len(sentences), batch_size), desc=\"Translating\"):\n",
        "            batch = sentences[i:i+batch_size]\n",
        "            inputs = tokenizer(batch, return_tensors=\"pt\", padding=True, truncation=True).to(device)\n",
        "\n",
        "            # Translate the batch\n",
        "            with torch.no_grad():\n",
        "                translated_ids = model.generate(inputs[\"input_ids\"], max_length=512, forced_bos_token_id=tokenizer.lang_code_to_id[target_language_code])\n",
        "\n",
        "            # Decode and post-process translations for the batch\n",
        "            translated_batch = tokenizer.batch_decode(translated_ids, skip_special_tokens=True)\n",
        "\n",
        "            # Append translated batch to the list of translated sentences\n",
        "            translated_sentences.extend(translated_batch)\n",
        "\n",
        "        return translated_sentences\n",
        "    else:\n",
        "        return \"Language code is incorrect or not supported.\"\n",
        "\n",
        "# Example sentences\n",
        "sentences = [\n",
        "    \"I've been experiencing a persistent cough and slight chest pain lately.\",\n",
        "    \"Do you know if there are any side effects I should be aware of for this medication?\",\n",
        "    \"How can I manage my stress levels better to improve my overall health?\",\n",
        "    \"I'm feeling extremely fatigued lately, even after a full night's sleep.\",\n",
        "    \"Could you explain the results of my recent blood tests in more detail?\",\n",
        "    \"I'm having trouble remembering things lately. Is this something I should be concerned about?\",\n",
        "    \"My allergies seem to be acting up more than usual. Is there anything I can do to alleviate the symptoms?\",\n",
        "    \"I've been experiencing frequent headaches and dizziness. What could be causing this?\",\n",
        "    \"Is there a particular diet or exercise routine you would recommend for someone with my medical history?\",\n",
        "    \"I'm having difficulty sleeping through the night. Are there any natural remedies you would suggest?\",\n",
        "    \"I've been feeling unusually anxious and worried. What can I do to reduce this?\",\n",
        "    \"Can you provide me with information on managing high blood pressure through lifestyle changes?\",\n",
        "    \"I've noticed a rash developing on my skin. What could be causing this?\",\n",
        "    \"What are the best practices for maintaining a healthy weight?\",\n",
        "    \"I often feel short of breath after minimal physical activity. What might be the cause?\",\n",
        "    \"Can you help me understand the potential interactions between these two medications?\",\n",
        "    \"I have a family history of diabetes. What can I do to reduce my risk?\",\n",
        "    \"I've been experiencing frequent heartburn. What can I do to prevent it?\",\n",
        "    \"What should I do if I suspect I'm developing an allergic reaction to something?\",\n",
        "    \"I've been feeling unusually cold lately, even in warm environments. What could be the reason?\",\n",
        "    \"Can you explain the benefits and risks of the flu vaccine?\",\n",
        "    \"What are some effective ways to improve my mental health and well-being?\",\n",
        "    \"I've been having trouble with my vision lately. Should I see a specialist?\",\n",
        "    \"How can I improve my diet to boost my immune system?\",\n",
        "    \"I've noticed some swelling in my legs and ankles. What could be causing this?\",\n",
        "    \"What are some effective treatments for chronic back pain?\",\n",
        "    \"Can you suggest some exercises to strengthen my core muscles?\",\n",
        "    \"I'm worried about my cholesterol levels. What dietary changes should I consider?\",\n",
        "    \"How can I ensure I'm getting enough vitamins and minerals in my diet?\",\n",
        "    \"I've been experiencing a lot of stress at work. What are some ways to manage it?\",\n",
        "    \"Can you recommend any over-the-counter remedies for a sore throat?\",\n",
        "    \"I've been feeling lightheaded and faint recently. What might be the cause?\",\n",
        "    \"How often should I get a physical exam to maintain good health?\",\n",
        "    \"What are the signs and symptoms of dehydration, and how can I prevent it?\",\n",
        "    \"I've been having trouble with my digestion lately. What can I do to improve it?\",\n",
        "    \"Can you provide information on the benefits of regular physical activity?\",\n",
        "    \"What are the best ways to protect my skin from sun damage?\",\n",
        "    \"I've been experiencing frequent urination. What could be causing this?\",\n",
        "    \"Can you explain the importance of sleep and how to improve its quality?\",\n",
        "    \"What should I do if I think I have a concussion?\",\n",
        "    \"How can I manage my blood sugar levels more effectively?\",\n",
        "    \"I've been experiencing a ringing in my ears. What might be causing this?\",\n",
        "    \"Can you provide tips on how to quit smoking?\",\n",
        "    \"I've been feeling very tired during the day. What could be causing this?\",\n",
        "    \"What are some ways to prevent the common cold and flu?\",\n",
        "    \"I've been experiencing some numbness in my hands and feet. What could this indicate?\",\n",
        "    \"Can you explain the benefits of maintaining a balanced diet?\",\n",
        "    \"I've been having trouble with my hearing. Should I get it checked?\",\n",
        "    \"What are some natural remedies for reducing inflammation?\",\n",
        "    \"I've been feeling very thirsty lately. Could this be a sign of a health issue?\",\n",
        "    \"Can you provide advice on how to manage arthritis pain?\"\n",
        "]\n",
        "\n",
        "\n",
        "target_language_code = \"hin_Deva\"\n",
        "\n",
        "# Call the translation function\n",
        "translated_sentences = translate_sentences(sentences, target_language_code, tokenizer, model, device)\n",
        "\n",
        "# Print translated sentences\n",
        "print(\"10 Translated Sentences:\")\n",
        "for sentence in translated_sentences[:10]:\n",
        "    print(sentence)"
      ]
    }
  ],
  "metadata": {
    "accelerator": "GPU",
    "colab": {
      "gpuType": "T4",
      "provenance": []
    },
    "kernelspec": {
      "display_name": "Python 3",
      "name": "python3"
    },
    "language_info": {
      "codemirror_mode": {
        "name": "ipython",
        "version": 3
      },
      "file_extension": ".py",
      "mimetype": "text/x-python",
      "name": "python",
      "nbconvert_exporter": "python",
      "pygments_lexer": "ipython3",
      "version": "3.11.7"
    }
  },
  "nbformat": 4,
  "nbformat_minor": 0
}
